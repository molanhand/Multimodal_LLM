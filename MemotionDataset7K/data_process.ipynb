{
 "cells": [
  {
   "cell_type": "markdown",
   "id": "c219d572",
   "metadata": {},
   "source": [
    "## 数据读取\n"
   ]
  },
  {
   "cell_type": "code",
   "execution_count": 1,
   "id": "63b20784",
   "metadata": {},
   "outputs": [],
   "source": [
    "# 导入必要的库\n",
    "import pandas as pd\n",
    "import os\n",
    "from PIL import Image\n",
    "import numpy as np\n",
    "from tqdm import tqdm"
   ]
  },
  {
   "cell_type": "code",
   "execution_count": 2,
   "id": "0eae554b",
   "metadata": {},
   "outputs": [
    {
     "name": "stderr",
     "output_type": "stream",
     "text": [
      "Loading images: 100%|██████████| 6992/6992 [00:02<00:00, 2409.04it/s]"
     ]
    },
    {
     "name": "stdout",
     "output_type": "stream",
     "text": [
      "Successfully loaded 6992 images\n",
      "Labels shape: (6992, 9)\n",
      "\n",
      "Labels preview:\n",
      "   Unnamed: 0    image_name  \\\n",
      "0           0   image_1.jpg   \n",
      "1           1  image_2.jpeg   \n",
      "2           2   image_3.JPG   \n",
      "3           3   image_4.png   \n",
      "4           4   image_5.png   \n",
      "\n",
      "                                            text_ocr  \\\n",
      "0  LOOK THERE MY FRIEND LIGHTYEAR NOW ALL SOHALIK...   \n",
      "1  The best of #10 YearChallenge! Completed in le...   \n",
      "2  Sam Thorne @Strippin ( Follow Follow Saw every...   \n",
      "3              10 Year Challenge - Sweet Dee Edition   \n",
      "4  10 YEAR CHALLENGE WITH NO FILTER 47 Hilarious ...   \n",
      "\n",
      "                                      text_corrected      humour  \\\n",
      "0  LOOK THERE MY FRIEND LIGHTYEAR NOW ALL SOHALIK...   hilarious   \n",
      "1  The best of #10 YearChallenge! Completed in le...   not_funny   \n",
      "2  Sam Thorne @Strippin ( Follow Follow Saw every...  very_funny   \n",
      "3              10 Year Challenge - Sweet Dee Edition  very_funny   \n",
      "4  10 YEAR CHALLENGE WITH NO FILTER 47 Hilarious ...   hilarious   \n",
      "\n",
      "           sarcasm       offensive      motivational overall_sentiment  \n",
      "0          general   not_offensive  not_motivational     very_positive  \n",
      "1          general   not_offensive      motivational     very_positive  \n",
      "2    not_sarcastic   not_offensive  not_motivational          positive  \n",
      "3  twisted_meaning  very_offensive      motivational          positive  \n",
      "4     very_twisted  very_offensive  not_motivational           neutral  \n"
     ]
    },
    {
     "name": "stderr",
     "output_type": "stream",
     "text": [
      "\n"
     ]
    }
   ],
   "source": [
    "# 设置数据路径\n",
    "BASE_PATH = \"memotion_dataset_7k\"\n",
    "IMAGE_PATH = os.path.join(BASE_PATH, \"images\")\n",
    "LABELS_PATH = os.path.join(BASE_PATH, \"labels.csv\")\n",
    "\n",
    "# 读取标签数据\n",
    "df_labels = pd.read_csv(LABELS_PATH)\n",
    "\n",
    "# 读取图像文件\n",
    "def load_image(image_name):\n",
    "    try:\n",
    "        img_path = os.path.join(IMAGE_PATH, image_name)\n",
    "        img = Image.open(img_path)\n",
    "        return img\n",
    "    except Exception as e:\n",
    "        print(f\"Error loading image {image_name}: {str(e)}\")\n",
    "        return None\n",
    "\n",
    "# 创建图像数据字典\n",
    "images_dict = {}\n",
    "for img_name in tqdm(df_labels['image_name'], desc=\"Loading images\"):\n",
    "    img = load_image(img_name)\n",
    "    if img is not None:\n",
    "        images_dict[img_name] = img\n",
    "\n",
    "print(f\"Successfully loaded {len(images_dict)} images\")\n",
    "print(f\"Labels shape: {df_labels.shape}\")\n",
    "# 显示标签数据的前几行\n",
    "print(\"\\nLabels preview:\")\n",
    "print(df_labels.head())\n"
   ]
  },
  {
   "cell_type": "code",
   "execution_count": null,
   "id": "a8a0eb6c",
   "metadata": {},
   "outputs": [],
   "source": []
  }
 ],
 "metadata": {
  "kernelspec": {
   "display_name": "Hatememes",
   "language": "python",
   "name": "python3"
  },
  "language_info": {
   "codemirror_mode": {
    "name": "ipython",
    "version": 3
   },
   "file_extension": ".py",
   "mimetype": "text/x-python",
   "name": "python",
   "nbconvert_exporter": "python",
   "pygments_lexer": "ipython3",
   "version": "3.10.16"
  }
 },
 "nbformat": 4,
 "nbformat_minor": 5
}
