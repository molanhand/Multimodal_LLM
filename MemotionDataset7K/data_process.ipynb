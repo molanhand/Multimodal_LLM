{
 "cells": [
  {
   "cell_type": "markdown",
   "id": "c219d572",
   "metadata": {},
   "source": [
    "## 数据读取\n"
   ]
  },
  {
   "cell_type": "code",
   "execution_count": 18,
   "id": "63b20784",
   "metadata": {},
   "outputs": [],
   "source": [
    "# 导入必要的库\n",
    "import pandas as pd\n",
    "import os\n",
    "from PIL import Image\n",
    "import numpy as np\n",
    "import matplotlib.pyplot as plt\n",
    "from tqdm import tqdm"
   ]
  },
  {
   "cell_type": "code",
   "execution_count": 2,
   "id": "0eae554b",
   "metadata": {},
   "outputs": [
    {
     "name": "stderr",
     "output_type": "stream",
     "text": [
      "Loading images: 100%|██████████| 6992/6992 [00:02<00:00, 2512.22it/s]"
     ]
    },
    {
     "name": "stdout",
     "output_type": "stream",
     "text": [
      "Successfully loaded 6992 images\n",
      "Labels shape: (6992, 8)\n",
      "\n",
      "Labels preview:\n",
      "     image_name                                           text_ocr  \\\n",
      "0   image_1.jpg  LOOK THERE MY FRIEND LIGHTYEAR NOW ALL SOHALIK...   \n",
      "1  image_2.jpeg  The best of #10 YearChallenge! Completed in le...   \n",
      "2   image_3.JPG  Sam Thorne @Strippin ( Follow Follow Saw every...   \n",
      "3   image_4.png              10 Year Challenge - Sweet Dee Edition   \n",
      "4   image_5.png  10 YEAR CHALLENGE WITH NO FILTER 47 Hilarious ...   \n",
      "\n",
      "                                      text_corrected      humour  \\\n",
      "0  LOOK THERE MY FRIEND LIGHTYEAR NOW ALL SOHALIK...   hilarious   \n",
      "1  The best of #10 YearChallenge! Completed in le...   not_funny   \n",
      "2  Sam Thorne @Strippin ( Follow Follow Saw every...  very_funny   \n",
      "3              10 Year Challenge - Sweet Dee Edition  very_funny   \n",
      "4  10 YEAR CHALLENGE WITH NO FILTER 47 Hilarious ...   hilarious   \n",
      "\n",
      "           sarcasm       offensive      motivational overall_sentiment  \n",
      "0          general   not_offensive  not_motivational     very_positive  \n",
      "1          general   not_offensive      motivational     very_positive  \n",
      "2    not_sarcastic   not_offensive  not_motivational          positive  \n",
      "3  twisted_meaning  very_offensive      motivational          positive  \n",
      "4     very_twisted  very_offensive  not_motivational           neutral  \n"
     ]
    },
    {
     "name": "stderr",
     "output_type": "stream",
     "text": [
      "\n"
     ]
    }
   ],
   "source": [
    "# 设置数据路径\n",
    "BASE_PATH = \"memotion_dataset_7k\"\n",
    "IMAGE_PATH = os.path.join(BASE_PATH, \"images\")\n",
    "LABELS_PATH = os.path.join(BASE_PATH, \"labels.csv\")\n",
    "\n",
    "# 读取标签数据\n",
    "df_labels = pd.read_csv(LABELS_PATH,index_col=0)\n",
    "\n",
    "# 读取图像文件\n",
    "def load_image(image_name):\n",
    "    try:\n",
    "        img_path = os.path.join(IMAGE_PATH, image_name)\n",
    "        img = Image.open(img_path)\n",
    "        return img\n",
    "    except Exception as e:\n",
    "        print(f\"Error loading image {image_name}: {str(e)}\")\n",
    "        return None\n",
    "\n",
    "# 创建图像数据字典\n",
    "images_dict = {}\n",
    "for img_name in tqdm(df_labels['image_name'], desc=\"Loading images\"):\n",
    "    img = load_image(img_name)\n",
    "    if img is not None:\n",
    "        images_dict[img_name] = img\n",
    "\n",
    "print(f\"Successfully loaded {len(images_dict)} images\")\n",
    "print(f\"Labels shape: {df_labels.shape}\")\n",
    "# 显示标签数据的前几行\n",
    "print(\"\\nLabels preview:\")\n",
    "print(df_labels.head())\n"
   ]
  },
  {
   "cell_type": "code",
   "execution_count": 25,
   "id": "180a1273",
   "metadata": {},
   "outputs": [
    {
     "name": "stdout",
     "output_type": "stream",
     "text": [
      "(6987, 9)\n"
     ]
    }
   ],
   "source": [
    "# 去除缺失值\n",
    "df_labels = df_labels.dropna(subset=[\"text_corrected\", \"offensive\"])\n",
    "df_labels[\"text_corrected\"] = df_labels[\"text_corrected\"].astype(str)\n",
    "print(df_labels.shape)"
   ]
  },
  {
   "cell_type": "markdown",
   "id": "7bd9bf7c",
   "metadata": {},
   "source": [
    "### 文本预处理步骤\n",
    "1. 添加必要的 NLTK 库\n",
    "2. 下载必要的资源\n",
    "3. 创建文本预处理函数\n",
    "4. 应用预处理并进行分类"
   ]
  },
  {
   "cell_type": "code",
   "execution_count": 26,
   "id": "c20d1512",
   "metadata": {},
   "outputs": [],
   "source": [
    "# 导入额外的预处理库\n",
    "import nltk\n",
    "from nltk.tokenize import wordpunct_tokenize\n",
    "from nltk.corpus import stopwords\n",
    "from nltk.stem import WordNetLemmatizer\n",
    "import string\n",
    "import re\n"
   ]
  },
  {
   "cell_type": "code",
   "execution_count": 27,
   "id": "579ae7b1",
   "metadata": {},
   "outputs": [
    {
     "name": "stderr",
     "output_type": "stream",
     "text": [
      "[nltk_data] Downloading package punkt to\n",
      "[nltk_data]     C:\\Users\\86177\\AppData\\Roaming\\nltk_data...\n",
      "[nltk_data]   Package punkt is already up-to-date!\n",
      "[nltk_data] Downloading package stopwords to\n",
      "[nltk_data]     C:\\Users\\86177\\AppData\\Roaming\\nltk_data...\n",
      "[nltk_data]   Package stopwords is already up-to-date!\n",
      "[nltk_data] Downloading package wordnet to\n",
      "[nltk_data]     C:\\Users\\86177\\AppData\\Roaming\\nltk_data...\n",
      "[nltk_data]   Package wordnet is already up-to-date!\n",
      "[nltk_data] Downloading package omw-1.4 to\n",
      "[nltk_data]     C:\\Users\\86177\\AppData\\Roaming\\nltk_data...\n",
      "[nltk_data]   Package omw-1.4 is already up-to-date!\n"
     ]
    },
    {
     "data": {
      "text/plain": [
       "True"
      ]
     },
     "execution_count": 27,
     "metadata": {},
     "output_type": "execute_result"
    }
   ],
   "source": [
    "# 下载必要的NLTK资源\n",
    "nltk.download('punkt')\n",
    "nltk.download('stopwords')\n",
    "nltk.download('wordnet')\n",
    "nltk.download('omw-1.4')"
   ]
  },
  {
   "cell_type": "code",
   "execution_count": 28,
   "id": "47b734dd",
   "metadata": {},
   "outputs": [],
   "source": [
    "# 创建预处理函数\n",
    "def preprocess_text(text):\n",
    "    # 转换为小写\n",
    "    text = text.lower()\n",
    "    \n",
    "    # 移除 URL\n",
    "    text = re.sub(r'http\\S+|www\\S+|https\\S+', '', text, flags=re.MULTILINE)\n",
    "    \n",
    "    # 移除标点符号\n",
    "    text = text.translate(str.maketrans('', '', string.punctuation))\n",
    "    \n",
    "    # 分词\n",
    "    tokens = wordpunct_tokenize(text)\n",
    "    \n",
    "    # 去除停用词\n",
    "    stop_words = set(stopwords.words('english'))\n",
    "    tokens = [token for token in tokens if token not in stop_words]\n",
    "    \n",
    "    # 词形还原\n",
    "    lemmatizer = WordNetLemmatizer()\n",
    "    tokens = [lemmatizer.lemmatize(token) for token in tokens]\n",
    "    \n",
    "    # 重新组合成文本\n",
    "    return ' '.join(tokens)"
   ]
  },
  {
   "cell_type": "markdown",
   "id": "04f53851",
   "metadata": {},
   "source": [
    "## 仅使用文本进行分类"
   ]
  },
  {
   "cell_type": "markdown",
   "id": "1e7c7da3",
   "metadata": {},
   "source": [
    "我将帮你创建一个使用简单机器学习模型进行情感分类的代码。我们将使用 scikit-learn 库来实现这个分类任务。这里我们主要关注 `offensive` 这个情感分类标签。\n",
    "\n",
    "这段代码实现了以下功能：\n",
    "\n",
    "1. 使用 TF-IDF 将文本转换为特征向量\n",
    "2. 对情感标签进行编码\n",
    "3. 将数据集分为训练集和测试集\n",
    "4. 使用随机森林分类器进行训练\n",
    "5. 评估模型性能并输出分类报告\n",
    "6. 展示最重要的特征词\n",
    "7. 可视化特征词的权重"
   ]
  },
  {
   "cell_type": "code",
   "execution_count": 29,
   "id": "a8a0eb6c",
   "metadata": {},
   "outputs": [],
   "source": [
    "# 导入必要的库\n",
    "from sklearn.model_selection import train_test_split\n",
    "from sklearn.feature_extraction.text import TfidfVectorizer\n",
    "from sklearn.ensemble import RandomForestClassifier\n",
    "from sklearn.metrics import classification_report\n",
    "from sklearn.preprocessing import LabelEncoder\n",
    "import warnings\n",
    "warnings.filterwarnings(\"ignore\")"
   ]
  },
  {
   "cell_type": "code",
   "execution_count": 30,
   "id": "14aaf0a8",
   "metadata": {},
   "outputs": [
    {
     "data": {
      "text/plain": [
       "offensive\n",
       "not_offensive        0.387863\n",
       "slight               0.370832\n",
       "very_offensive       0.209675\n",
       "hateful_offensive    0.031630\n",
       "Name: proportion, dtype: float64"
      ]
     },
     "execution_count": 30,
     "metadata": {},
     "output_type": "execute_result"
    }
   ],
   "source": [
    "df_labels['offensive'].value_counts(normalize=True)"
   ]
  },
  {
   "cell_type": "code",
   "execution_count": 31,
   "id": "73db7414",
   "metadata": {},
   "outputs": [],
   "source": [
    "def merge_offensive(label):\n",
    "    if label in [\"slight\", \"very_offensive\",'hateful_offensive']:\n",
    "        return \"offensive\"\n",
    "    else:\n",
    "        return \"not_offensive\"\n",
    "# 合并标签\n",
    "df_labels['merge_offensive'] = df_labels['offensive'].apply(merge_offensive)"
   ]
  },
  {
   "cell_type": "code",
   "execution_count": 32,
   "id": "cf62f326",
   "metadata": {},
   "outputs": [
    {
     "data": {
      "text/plain": [
       "merge_offensive\n",
       "offensive        0.612137\n",
       "not_offensive    0.387863\n",
       "Name: proportion, dtype: float64"
      ]
     },
     "execution_count": 32,
     "metadata": {},
     "output_type": "execute_result"
    }
   ],
   "source": [
    "df_labels['merge_offensive'].value_counts(normalize=True)"
   ]
  },
  {
   "cell_type": "code",
   "execution_count": 33,
   "id": "61eb6525",
   "metadata": {},
   "outputs": [
    {
     "name": "stdout",
     "output_type": "stream",
     "text": [
      "分类报告：\n",
      "               precision    recall  f1-score   support\n",
      "\n",
      "not_offensive       0.34      0.14      0.20       568\n",
      "    offensive       0.58      0.81      0.68       830\n",
      "\n",
      "     accuracy                           0.54      1398\n",
      "    macro avg       0.46      0.48      0.44      1398\n",
      " weighted avg       0.48      0.54      0.48      1398\n",
      "\n",
      "\n",
      "最重要的10个特征：\n",
      "           feature  importance\n",
      "2860          meme    0.005555\n",
      "2289    imgflipcom    0.005221\n",
      "2663          like    0.005047\n",
      "2550          know    0.004184\n",
      "1751        friend    0.003828\n",
      "1327          dont    0.003784\n",
      "2277            im    0.003635\n",
      "3578  quickmemecom    0.003430\n",
      "2999         movie    0.003410\n",
      "1844           get    0.003389\n"
     ]
    }
   ],
   "source": [
    "# 数据预处理\n",
    "# 使用text_corrected作为特征\n",
    "X = df_labels['text_corrected'].fillna('').apply(preprocess_text)# 填充缺失值\n",
    "y = df_labels['merge_offensive'] # 目标变量\n",
    "\n",
    "# 标签编码\n",
    "le = LabelEncoder()\n",
    "y_encoded = le.fit_transform(y)\n",
    "\n",
    "# 文本特征提取\n",
    "vectorizer = TfidfVectorizer(max_features=5000)\n",
    "X_tfidf = vectorizer.fit_transform(X)\n",
    "\n",
    "# 划分训练集和测试集\n",
    "X_train, X_test, y_train, y_test = train_test_split(\n",
    "    X_tfidf, y_encoded, test_size=0.2, random_state=42\n",
    ")\n",
    "\n",
    "# 训练随机森林分类器\n",
    "rf_classifier = RandomForestClassifier(n_estimators=100, random_state=42)\n",
    "rf_classifier.fit(X_train, y_train)\n",
    "\n",
    "# 预测和评估\n",
    "y_pred = rf_classifier.predict(X_test)\n",
    "\n",
    "# 打印分类报告\n",
    "print(\"分类报告：\")\n",
    "print(classification_report(y_test, y_pred, \n",
    "                          target_names=le.classes_))\n",
    "\n",
    "# 查看特征重要性\n",
    "feature_importance = pd.DataFrame({\n",
    "    'feature': vectorizer.get_feature_names_out(),\n",
    "    'importance': rf_classifier.feature_importances_\n",
    "})\n",
    "print(\"\\n最重要的10个特征：\")\n",
    "print(feature_importance.nlargest(10, 'importance'))"
   ]
  },
  {
   "cell_type": "markdown",
   "id": "2c49ceb7",
   "metadata": {},
   "source": [
    "### 增加分类器"
   ]
  },
  {
   "cell_type": "code",
   "execution_count": 34,
   "id": "70cf0a08",
   "metadata": {},
   "outputs": [],
   "source": [
    "# 导入额外的分类器和评估工具\n",
    "from sklearn.linear_model import LogisticRegression\n",
    "from sklearn.svm import LinearSVC\n",
    "from sklearn.naive_bayes import MultinomialNB\n",
    "from sklearn.model_selection import cross_val_score, GridSearchCV\n",
    "from sklearn.metrics import confusion_matrix\n",
    "import seaborn as sns"
   ]
  },
  {
   "cell_type": "code",
   "execution_count": 35,
   "id": "b44fb491",
   "metadata": {},
   "outputs": [
    {
     "name": "stdout",
     "output_type": "stream",
     "text": [
      "交叉验证结果:\n",
      "Random Forest: 平均准确率 = 0.563 (+/- 0.014)\n",
      "Logistic Regression: 平均准确率 = 0.570 (+/- 0.014)\n",
      "Linear SVC: 平均准确率 = 0.529 (+/- 0.016)\n",
      "Naive Bayes: 平均准确率 = 0.580 (+/- 0.010)\n",
      "\n",
      "最佳参数: {'max_depth': 20, 'min_samples_split': 5, 'n_estimators': 100}\n",
      "\n",
      "优化后的分类报告：\n",
      "               precision    recall  f1-score   support\n",
      "\n",
      "not_offensive       0.00      0.00      0.00       568\n",
      "    offensive       0.59      1.00      0.75       830\n",
      "\n",
      "     accuracy                           0.59      1398\n",
      "    macro avg       0.30      0.50      0.37      1398\n",
      " weighted avg       0.35      0.59      0.44      1398\n",
      "\n"
     ]
    },
    {
     "data": {
      "image/png": "[encoded data removed]",
      "text/plain": [
       "<Figure size 800x600 with 2 Axes>"
      ]
     },
     "metadata": {},
     "output_type": "display_data"
    },
    {
     "data": {
      "image/png": "[encoded data removed]",
      "text/plain": [
       "<Figure size 1000x600 with 1 Axes>"
      ]
     },
     "metadata": {},
     "output_type": "display_data"
    }
   ],
   "source": [
    "# 使用text_corrected作为特征\n",
    "X = df_labels['text_corrected'].fillna('').apply(preprocess_text)# 填充缺失值\n",
    "y = df_labels['merge_offensive'] # 目标变量\n",
    "\n",
    "# 标签编码\n",
    "le = LabelEncoder()\n",
    "y_encoded = le.fit_transform(y)\n",
    "\n",
    "# 文本特征提取\n",
    "vectorizer = TfidfVectorizer(max_features=5000)\n",
    "X_tfidf = vectorizer.fit_transform(X)\n",
    "\n",
    "# 划分训练集和测试集\n",
    "X_train, X_test, y_train, y_test = train_test_split(\n",
    "    X_tfidf, y_encoded, test_size=0.2, random_state=42\n",
    ")\n",
    "\n",
    "# 定义多个分类器\n",
    "classifiers = {\n",
    "    'Random Forest': RandomForestClassifier(random_state=42),\n",
    "    'Logistic Regression': LogisticRegression(random_state=42),\n",
    "    'Linear SVC': LinearSVC(random_state=42),\n",
    "    'Naive Bayes': MultinomialNB()\n",
    "}\n",
    "\n",
    "# 对每个分类器进行交叉验证\n",
    "print(\"交叉验证结果:\")\n",
    "for name, clf in classifiers.items():\n",
    "    scores = cross_val_score(clf, X_tfidf, y_encoded, cv=5)\n",
    "    print(f\"{name}: 平均准确率 = {scores.mean():.3f} (+/- {scores.std() * 2:.3f})\")\n",
    "\n",
    "# 使用网格搜索优化随机森林参数\n",
    "param_grid = {\n",
    "    'n_estimators': [100, 200],\n",
    "    'max_depth': [10, 20, None],\n",
    "    'min_samples_split': [2, 5]\n",
    "}\n",
    "\n",
    "grid_search = GridSearchCV(\n",
    "    RandomForestClassifier(random_state=42),\n",
    "    param_grid,\n",
    "    cv=5,\n",
    "    n_jobs=-1\n",
    ")\n",
    "\n",
    "grid_search.fit(X_train, y_train)\n",
    "print(\"\\n最佳参数:\", grid_search.best_params_)\n",
    "\n",
    "# 使用最佳参数的模型\n",
    "best_rf = grid_search.best_estimator_\n",
    "y_pred = best_rf.predict(X_test)\n",
    "\n",
    "# 打印分类报告\n",
    "print(\"\\n优化后的分类报告：\")\n",
    "print(classification_report(y_test, y_pred, target_names=le.classes_))\n",
    "\n",
    "# 绘制混淆矩阵\n",
    "plt.figure(figsize=(8, 6))\n",
    "cm = confusion_matrix(y_test, y_pred)\n",
    "sns.heatmap(cm, annot=True, fmt='d', cmap='Blues',\n",
    "            xticklabels=le.classes_,\n",
    "            yticklabels=le.classes_)\n",
    "plt.title('Confusion Matrix')\n",
    "plt.xlabel('Predicted')\n",
    "plt.ylabel('True')\n",
    "plt.show()\n",
    "\n",
    "# 特征重要性可视化\n",
    "feature_importance = pd.DataFrame({\n",
    "    'feature': vectorizer.get_feature_names_out(),\n",
    "    'importance': best_rf.feature_importances_\n",
    "})\n",
    "top_features = feature_importance.nlargest(10, 'importance')\n",
    "\n",
    "plt.figure(figsize=(10, 6))\n",
    "sns.barplot(data=top_features, x='importance', y='feature')\n",
    "plt.title('Top 10 Most Important Features')\n",
    "plt.show()"
   ]
  },
  {
   "cell_type": "markdown",
   "id": "2f75931e",
   "metadata": {},
   "source": [
    "### 观察分类错误的数据"
   ]
  },
  {
   "cell_type": "code",
   "execution_count": 9,
   "id": "25807d78",
   "metadata": {},
   "outputs": [
    {
     "data": {
      "application/vnd.microsoft.datawrangler.viewer.v0+json": {
       "columns": [
        {
         "name": "index",
         "rawType": "int64",
         "type": "integer"
        },
        {
         "name": "image_name",
         "rawType": "object",
         "type": "string"
        },
        {
         "name": "text_ocr",
         "rawType": "object",
         "type": "unknown"
        },
        {
         "name": "text_corrected",
         "rawType": "object",
         "type": "string"
        },
        {
         "name": "humour",
         "rawType": "object",
         "type": "string"
        },
        {
         "name": "sarcasm",
         "rawType": "object",
         "type": "string"
        },
        {
         "name": "offensive",
         "rawType": "object",
         "type": "string"
        },
        {
         "name": "motivational",
         "rawType": "object",
         "type": "string"
        },
        {
         "name": "overall_sentiment",
         "rawType": "object",
         "type": "string"
        }
       ],
       "conversionMethod": "pd.DataFrame",
       "ref": "81726871-cc8c-41fc-a869-d055281b6c38",
       "rows": [
        [
         "148",
         "image_149.png",
         "-S6E12 El.can't give this suit back. Ted",
         "S6E12 I can't give this suit back. Ted  I glow in the dark. I finally glow in the dark!",
         "very_funny",
         "not_sarcastic",
         "hateful_offensive",
         "motivational",
         "negative"
        ],
        [
         "202",
         "image_203.JPG",
         "PH.D. IN ELECTRICAL ENGINEERING MADE THE WORLD LAUGH WITHOUT SAYING A WORD",
         "PH.D. IN ELECTRICAL ENGINEERING MADE THE WORLD LAUGH WITHOUT SAYING A WORD",
         "not_funny",
         "very_twisted",
         "hateful_offensive",
         "motivational",
         "very_negative"
        ],
        [
         "213",
         "image_214.jpg",
         "R.I.P. 1995 - 2016 BBC NEWS",
         "R.I.P. 1995 - 2016 BBC NEWS",
         "very_funny",
         "general",
         "hateful_offensive",
         "not_motivational",
         "neutral"
        ],
        [
         "331",
         "image_332.jpg",
         "His arrival was foretold in the ancient murals 2.",
         "His arrival was foretold in the ancient murals",
         "hilarious",
         "very_twisted",
         "hateful_offensive",
         "not_motivational",
         "very_positive"
        ],
        [
         "365",
         "image_366.jpg",
         "This is Bill. Bill is an atheist. Bill doesn't make fun of people who believe",
         "This is Bill. Bill is an atheist. Bill doesn't make fun of people who believe  cause he knows people do what they want with their life . Bill is smart. Be like Bill.",
         "hilarious",
         "general",
         "hateful_offensive",
         "motivational",
         "positive"
        ],
        [
         "383",
         "image_384.jpg",
         "This is Bill Bill is a developer Bill doesn't fuck up the designer's layout Bill can write code without stackoverflow.com Bill has a bath everyday Bill is smart Be like Bill DigitalSynopsis.com",
         "This is Bill Bill is a developer Bill doesn't fuck up the designer's layout Bill can write code without stackoverflow.com Bill has a bath everyday Bill is smart Be like Bill DigitalSynopsis.com",
         "funny",
         "very_twisted",
         "hateful_offensive",
         "motivational",
         "neutral"
        ],
        [
         "407",
         "image_408.jpg",
         "When everybody talking about let's split the bill equally but you ordered the cheapest thing on the menu",
         "When everybody talking about let's split the bill equally but you ordered the cheapest thing on the menu",
         "not_funny",
         "very_twisted",
         "hateful_offensive",
         "not_motivational",
         "very_positive"
        ],
        [
         "420",
         "image_421.jpeg",
         "THIS IS BILL. BILL SUPPLIES LOTION. BILL MAKES ALL HIS OWN CLOTHES. BILL IS SMART BE LIKE BILL. The Geek Strikes Back",
         "THIS IS BILL. BILL SUPPLIES LOTION. BILL MAKES ALL HIS OWN CLOTHES. BILL IS SMART BE LIKE BILL. The Geek Strikes Back",
         "hilarious",
         "general",
         "hateful_offensive",
         "not_motivational",
         "neutral"
        ],
        [
         "422",
         "image_423.jpg",
         "This is Bill. When Bill drives on roads he uses his indicators",
         "This is Bill. When Bill drives on roads he uses his indicators  because Bill Wants other drivers to know where the fuck he his going. Bill is smart. Be like Bill.",
         "not_funny",
         "general",
         "hateful_offensive",
         "not_motivational",
         "positive"
        ],
        [
         "502",
         "image_503.jpg",
         "ONE CRIES BECAUSE ONE IS SAD. FOR EXAMPLE",
         "ONE CRIES BECAUSE ONE IS SAD. FOR EXAMPLE  I CRIES BECAUSE OTHERS ARE STUPID  AND THAT MAKE ME SAD. By  StuffiStumbledUpon.com",
         "very_funny",
         "general",
         "hateful_offensive",
         "motivational",
         "neutral"
        ],
        [
         "588",
         "image_589.png",
         "when u sneeze in front of ur pet and they look at u like youve just offended their great ancestors @DrSmashlove",
         "when u sneeze in front of ur pet and they look at u like youve just offended their great ancestors @DrSmashlove",
         "very_funny",
         "twisted_meaning",
         "hateful_offensive",
         "motivational",
         "very_positive"
        ],
        [
         "591",
         "image_592.png",
         "MEOW IS JUST ME+OW CatBreed Selector.com f CatBreed Selector CatBreed Select",
         "MEOW IS JUST ME+OW CatBreedSelector.com f CatBreedSelector CatBreedSelect",
         "hilarious",
         "general",
         "hateful_offensive",
         "not_motivational",
         "neutral"
        ],
        [
         "610",
         "image_611.jpg",
         "thermometer.. goes WHERE?!?!",
         "thermometer.. goes WHERE?!?!",
         "very_funny",
         "not_sarcastic",
         "hateful_offensive",
         "motivational",
         "positive"
        ],
        [
         "616",
         "image_617.jpg",
         "HE STOPPED RUBBING MY BELLY JUST BEFORE I COULD BITE HIM",
         "HE STOPPED RUBBING MY BELLY JUST BEFORE I COULD BITE HIM",
         "very_funny",
         "twisted_meaning",
         "hateful_offensive",
         "not_motivational",
         "positive"
        ],
        [
         "670",
         "image_671.png",
         "www.CleanMemes.com I THINK MY CAT IS BROKEN...",
         "www.CleanMemes.com I THINK MY CAT IS BROKEN...",
         "hilarious",
         "very_twisted",
         "hateful_offensive",
         "not_motivational",
         "very_positive"
        ],
        [
         "671",
         "image_672.jpg",
         "I need a new minion... ...dis one is broken.",
         "I need a new minion... ...dis one is broken.",
         "very_funny",
         "general",
         "hateful_offensive",
         "not_motivational",
         "neutral"
        ],
        [
         "701",
         "image_702.jpg",
         "Going to London Ruining Ross's wedding TOEHDR O Doing nothing afterwards Dofing Doing nothing afterwards IG: Chandler Bing Memes",
         "Going to London Ruining Ross's wedding TOEHDR O Doing nothing afterwards Dofing Doing nothing afterwards IG: Chandler Bing Memes",
         "very_funny",
         "very_twisted",
         "hateful_offensive",
         "not_motivational",
         "neutral"
        ],
        [
         "736",
         "image_737.jpg",
         "How was the moon created? By Chuck Norris hitting a golf ball",
         "How was the moon created? By Chuck Norris hitting a golf ball",
         "hilarious",
         "very_twisted",
         "hateful_offensive",
         "motivational",
         "positive"
        ],
        [
         "762",
         "image_763.JPG",
         "ONCE DUG A HOLE WITH A SPOON ALSO KNOW AS THE GRAND CANYON desde o raty",
         "ONCE DUG A HOLE WITH A SPOON ALSO KNOW AS THE GRAND CANYON",
         "not_funny",
         "general",
         "hateful_offensive",
         "motivational",
         "positive"
        ],
        [
         "786",
         "image_787.jpg",
         "KILLS 50 PEOPLE WITH GUN THEN STARTS FIRING Handcrafted by bikerider9 for iFunny :) funny.mobi",
         "KILLS 50 PEOPLE WITH GUN THEN STARTS FIRING Handcrafted by bikerider9 for iFunny :) funny.mobi",
         "hilarious",
         "very_twisted",
         "hateful_offensive",
         "not_motivational",
         "very_negative"
        ],
        [
         "802",
         "image_803.jpg",
         "Feeding your country Sending a dog to space",
         "Feeding your country Sending a dog to space",
         "funny",
         "twisted_meaning",
         "hateful_offensive",
         "not_motivational",
         "negative"
        ],
        [
         "860",
         "image_861.jpg",
         "WHO WOULD WIN? Half of Europe Abad painter",
         "WHO WOULD WIN? Half of Europe A bad painter",
         "very_funny",
         "very_twisted",
         "hateful_offensive",
         "not_motivational",
         "neutral"
        ],
        [
         "882",
         "image_883.jpg",
         "WHEN YOU FIGURE OUT*** WHO'S CHEATIN' WHO",
         "WHEN YOU FIGURE OUT*** WHO'S CHEATIN' WHO",
         "not_funny",
         "twisted_meaning",
         "hateful_offensive",
         "motivational",
         "neutral"
        ],
        [
         "913",
         "image_914.jpg",
         "HMM WHAT IS THAT MAN? VIA 9GAG.COM DO YOU LIKE WHAT YOU SEE? imp com",
         "HMM WHAT IS THAT MAN? VIA 9GAG.COM DO YOU LIKE WHAT YOU SEE? Imgflip.com",
         "hilarious",
         "very_twisted",
         "hateful_offensive",
         "motivational",
         "neutral"
        ],
        [
         "930",
         "image_931.jpg",
         "90 THERE WILL NEVER BE A WISER KING THAN YOU THAT'S HOW YOU GET YOUR DADDY TO BUY YOU A GIFT!",
         "90 THERE WILL NEVER BE A WISER KING THAN YOU THAT'S HOW YOU GET YOUR DADDY TO BUY YOU A GIFT!",
         "very_funny",
         "twisted_meaning",
         "hateful_offensive",
         "not_motivational",
         "neutral"
        ],
        [
         "1067",
         "image_1068.jpeg",
         "LET'S MAKE A WORD THAT MEANS \"FEAR OF LONG WORDS\" AND NAME IT \"HIPPOMONSTROSESQUIPPEDALIOPHOBIA\" Meng Center.com",
         "LET'S MAKE A WORD THAT MEANS \"FEAR OF LONG WORDS\" AND NAME IT \"HIPPOMONSTROSESQUIPPEDALIOPHOBIA\" MemeCenter.com",
         "very_funny",
         "very_twisted",
         "hateful_offensive",
         "motivational",
         "neutral"
        ],
        [
         "1136",
         "image_1137.jpg",
         "i've seen some shit but most of the time it's my shit memecenter.com MemeCenter",
         "i've seen some shit but most of the time it's my shit memecenter.com MemeCenter",
         "very_funny",
         "general",
         "hateful_offensive",
         "not_motivational",
         "positive"
        ],
        [
         "1227",
         "image_1228.jpg",
         "trust officialinternet Do Women Like Being Sexually Harassed? Men in New Survey Say Yes. summer goth @NicCage Match Do humans like being eaten alive? Sharks in new survey say yes.",
         "trust officialinternet Do Women Like Being Sexually Harassed? Men in New Survey Say Yes. summer goth @NicCage Match Do humans like being eaten alive? Sharks in new survey say yes.",
         "not_funny",
         "not_sarcastic",
         "hateful_offensive",
         "not_motivational",
         "very_negative"
        ],
        [
         "1236",
         "image_1237.png",
         "me after taking one feminist theory class Amen Amen A-woman",
         "me after taking one feminist theory class Amen Amen A-woman",
         "very_funny",
         "not_sarcastic",
         "hateful_offensive",
         "motivational",
         "neutral"
        ],
        [
         "1245",
         "image_1246.jpg",
         "Keidy @keildyyH whenever I park illegally. I always give myself a fake parking ticket before somebody else does it for me",
         "Keidy @keildyyH whenever I park illegally. I always give myself a fake parking ticket before somebody else does it for me",
         "hilarious",
         "twisted_meaning",
         "hateful_offensive",
         "motivational",
         "neutral"
        ],
        [
         "1281",
         "image_1282.jpeg",
         "After you check snapchat and see the whole squad turning up without you Fuck 'em. I don't need nobody. Who do I trust? Me!",
         "After you check snapchat and see the whole squad turning up without you Fuck 'em. I don't need nobody. Who do I trust? Me!",
         "not_funny",
         "not_sarcastic",
         "hateful_offensive",
         "motivational",
         "very_negative"
        ],
        [
         "1317",
         "image_1318.jpg",
         "I go through life assuming everyone gets FRIENDS references. And when people don't",
         "I go through life assuming everyone gets FRIENDS references. And when people don't  I'm like:",
         "not_funny",
         "general",
         "hateful_offensive",
         "not_motivational",
         "neutral"
        ],
        [
         "1350",
         "image_1351.png",
         "That one friend who snaps everything",
         "That one friend who snaps everything",
         "hilarious",
         "general",
         "hateful_offensive",
         "motivational",
         "very_negative"
        ],
        [
         "1359",
         "image_1360.jpg",
         "Kindergarten",
         "Kindergarten   day two.",
         "very_funny",
         "twisted_meaning",
         "hateful_offensive",
         "not_motivational",
         "very_negative"
        ],
        [
         "1434",
         "image_1435.jpeg",
         "LOOK AT THAT",
         "LOOK AT THAT GENE...THEY STILL LOVE US imgflip.com",
         "not_funny",
         "general",
         "hateful_offensive",
         "motivational",
         "very_positive"
        ],
        [
         "1495",
         "image_1496.jpg",
         "Girlfriend: He always ignores me when he plays that stupid video game. Guy: She doesn't understand that it's a multiplayer game Female Therapist: Why don't you pause it? BRISISICE",
         "Girlfriend: He always ignores me when he plays that stupid video game. Guy: She doesn't understand that it's a multiplayer game Female Therapist: Why don't you pause it? BRISISICE",
         "hilarious",
         "general",
         "hateful_offensive",
         "motivational",
         "neutral"
        ],
        [
         "1506",
         "image_1507.jpg",
         "I RAN INTO YOUR EX TODAY... WITH MY CAR... DIYLOL.COM",
         "I RAN INTO YOUR EX TODAY... WITH MY CAR... DIYLOL.COM",
         "not_funny",
         "twisted_meaning",
         "hateful_offensive",
         "not_motivational",
         "very_positive"
        ],
        [
         "1527",
         "image_1528.jpg",
         "ISOLD ALL YOUR GAMES IMALL YOU NEED BITCH PLEASE memecenter.com Manetenlerie",
         "ISOLD ALL YOUR GAMES IMALL YOU NEED BITCH PLEASE memecenter.com Manetenlerie",
         "very_funny",
         "very_twisted",
         "hateful_offensive",
         "motivational",
         "neutral"
        ],
        [
         "1578",
         "image_1579.png",
         "I was so excited last night",
         "I was so excited last night  I didn't get to sleep till half past ten",
         "very_funny",
         "twisted_meaning",
         "hateful_offensive",
         "not_motivational",
         "positive"
        ],
        [
         "1591",
         "image_1592.jpg",
         "ALIENS PUT THEIR PROBES WHERE??? Beth@Total Tsoukaliciousness memecenter.com MameCenter",
         "ALIENS PUT THEIR PROBES WHERE??? Beth@Total Tsoukaliciousness memecenter.com MameCenter",
         "hilarious",
         "not_sarcastic",
         "hateful_offensive",
         "not_motivational",
         "neutral"
        ],
        [
         "1680",
         "image_1681.jpg",
         "This is Bran Bran's seen Game Of Thrones Doesn't spoil it for others ashwinska Be Like Bran",
         "This is Bran Bran's seen Game Of Thrones Doesn't spoil it for others ashwinska Be Like Bran",
         "very_funny",
         "twisted_meaning",
         "hateful_offensive",
         "not_motivational",
         "neutral"
        ],
        [
         "1690",
         "image_1691.jpg",
         "WHAT'S WRONG? KHAL GOT YOUR TONGUE? quickmeme.com",
         "WHAT'S WRONG? KHAL GOT YOUR TONGUE? quickmeme.com",
         "not_funny",
         "very_twisted",
         "hateful_offensive",
         "not_motivational",
         "negative"
        ],
        [
         "1718",
         "image_1719.png",
         "YEAH IF YOU COULD PUT SUBTITLES WHEN THEY SPEAK DOTHRAKI THAT WOULD BE GREAT quickmeme.com",
         "YEAH IF YOU COULD PUT SUBTITLES WHEN THEY SPEAK DOTHRAKI THAT WOULD BE GREAT quickmeme.com",
         "very_funny",
         "very_twisted",
         "hateful_offensive",
         "not_motivational",
         "negative"
        ],
        [
         "1733",
         "image_1734.jpg",
         "Daenerys Targaryen @danygonebad Follow When someone informs you that bae is actually your aunt... #Awkward #Dany Problems #Gameofthrones",
         "Daenerys Targaryen @danygonebad Follow When someone informs you that bae is actually your aunt... #Awkward #Dany Problems #Gameofthrones",
         "hilarious",
         "not_sarcastic",
         "hateful_offensive",
         "not_motivational",
         "negative"
        ],
        [
         "1745",
         "image_1746.png",
         "I can't have children Hold my beer",
         "I can't have children Hold my beer",
         "hilarious",
         "twisted_meaning",
         "hateful_offensive",
         "not_motivational",
         "positive"
        ],
        [
         "1769",
         "image_1770.jpg",
         "-So",
         "-SO  this is a nose Interesting...",
         "very_funny",
         "not_sarcastic",
         "hateful_offensive",
         "not_motivational",
         "neutral"
        ],
        [
         "1805",
         "image_1806.jpg",
         "MY DICK IS ONLY 3 INCHES THATS NOT VERY - FROM THE GROUND",
         "MY DICK IS ONLY 3 INCHES THATS NOT VERY - FROM THE GROUND",
         "very_funny",
         "very_twisted",
         "hateful_offensive",
         "not_motivational",
         "very_positive"
        ],
        [
         "1845",
         "image_1846.jpg",
         "FRIENDSHIP!!!!! I don't have any friends though.",
         "FRIENDSHIP!!!!! I don't have any friends though.",
         "hilarious",
         "twisted_meaning",
         "hateful_offensive",
         "not_motivational",
         "positive"
        ],
        [
         "1910",
         "image_1911.jpg",
         "IT'S OKAY STEVE. I WOULDA READ IT WRONG TOO!",
         "IT'S OKAY STEVE. I WOULDA READ IT WRONG TOO!",
         "not_funny",
         "general",
         "hateful_offensive",
         "not_motivational",
         "neutral"
        ],
        [
         "1995",
         "image_1996.jpg",
         "pe Yeah",
         "pe Yeah  Hillary definitely seems healthy FACEBOOK.COM/ POLMCAL CORRECTNESS CONEWILD",
         "funny",
         "twisted_meaning",
         "hateful_offensive",
         "motivational",
         "positive"
        ]
       ],
       "shape": {
        "columns": 8,
        "rows": 221
       }
      },
      "text/html": [
       "<div>\n",
       "<style scoped>\n",
       "    .dataframe tbody tr th:only-of-type {\n",
       "        vertical-align: middle;\n",
       "    }\n",
       "\n",
       "    .dataframe tbody tr th {\n",
       "        vertical-align: top;\n",
       "    }\n",
       "\n",
       "    .dataframe thead th {\n",
       "        text-align: right;\n",
       "    }\n",
       "</style>\n",
       "<table border=\"1\" class=\"dataframe\">\n",
       "  <thead>\n",
       "    <tr style=\"text-align: right;\">\n",
       "      <th></th>\n",
       "      <th>image_name</th>\n",
       "      <th>text_ocr</th>\n",
       "      <th>text_corrected</th>\n",
       "      <th>humour</th>\n",
       "      <th>sarcasm</th>\n",
       "      <th>offensive</th>\n",
       "      <th>motivational</th>\n",
       "      <th>overall_sentiment</th>\n",
       "    </tr>\n",
       "  </thead>\n",
       "  <tbody>\n",
       "    <tr>\n",
       "      <th>148</th>\n",
       "      <td>image_149.png</td>\n",
       "      <td>-S6E12 El.can't give this suit back. Ted</td>\n",
       "      <td>S6E12 I can't give this suit back. Ted  I glow...</td>\n",
       "      <td>very_funny</td>\n",
       "      <td>not_sarcastic</td>\n",
       "      <td>hateful_offensive</td>\n",
       "      <td>motivational</td>\n",
       "      <td>negative</td>\n",
       "    </tr>\n",
       "    <tr>\n",
       "      <th>202</th>\n",
       "      <td>image_203.JPG</td>\n",
       "      <td>PH.D. IN ELECTRICAL ENGINEERING MADE THE WORLD...</td>\n",
       "      <td>PH.D. IN ELECTRICAL ENGINEERING MADE THE WORLD...</td>\n",
       "      <td>not_funny</td>\n",
       "      <td>very_twisted</td>\n",
       "      <td>hateful_offensive</td>\n",
       "      <td>motivational</td>\n",
       "      <td>very_negative</td>\n",
       "    </tr>\n",
       "    <tr>\n",
       "      <th>213</th>\n",
       "      <td>image_214.jpg</td>\n",
       "      <td>R.I.P. 1995 - 2016 BBC NEWS</td>\n",
       "      <td>R.I.P. 1995 - 2016 BBC NEWS</td>\n",
       "      <td>very_funny</td>\n",
       "      <td>general</td>\n",
       "      <td>hateful_offensive</td>\n",
       "      <td>not_motivational</td>\n",
       "      <td>neutral</td>\n",
       "    </tr>\n",
       "    <tr>\n",
       "      <th>331</th>\n",
       "      <td>image_332.jpg</td>\n",
       "      <td>His arrival was foretold in the ancient murals 2.</td>\n",
       "      <td>His arrival was foretold in the ancient murals</td>\n",
       "      <td>hilarious</td>\n",
       "      <td>very_twisted</td>\n",
       "      <td>hateful_offensive</td>\n",
       "      <td>not_motivational</td>\n",
       "      <td>very_positive</td>\n",
       "    </tr>\n",
       "    <tr>\n",
       "      <th>365</th>\n",
       "      <td>image_366.jpg</td>\n",
       "      <td>This is Bill. Bill is an atheist. Bill doesn't...</td>\n",
       "      <td>This is Bill. Bill is an atheist. Bill doesn't...</td>\n",
       "      <td>hilarious</td>\n",
       "      <td>general</td>\n",
       "      <td>hateful_offensive</td>\n",
       "      <td>motivational</td>\n",
       "      <td>positive</td>\n",
       "    </tr>\n",
       "    <tr>\n",
       "      <th>...</th>\n",
       "      <td>...</td>\n",
       "      <td>...</td>\n",
       "      <td>...</td>\n",
       "      <td>...</td>\n",
       "      <td>...</td>\n",
       "      <td>...</td>\n",
       "      <td>...</td>\n",
       "      <td>...</td>\n",
       "    </tr>\n",
       "    <tr>\n",
       "      <th>6908</th>\n",
       "      <td>image_6909.png</td>\n",
       "      <td>YOU'RE NOT MY REAL DAD spiderman memes</td>\n",
       "      <td>YOU'RE NOT MY REAL DAD spiderman memes 60s spi...</td>\n",
       "      <td>funny</td>\n",
       "      <td>twisted_meaning</td>\n",
       "      <td>hateful_offensive</td>\n",
       "      <td>motivational</td>\n",
       "      <td>negative</td>\n",
       "    </tr>\n",
       "    <tr>\n",
       "      <th>6913</th>\n",
       "      <td>image_6914.png</td>\n",
       "      <td>DAD. WHAT'S TAKING THE GAME WINNING SHOT? I DO...</td>\n",
       "      <td>DAD. WHAT'S TAKING THE GAME WINNING SHOT? I DO...</td>\n",
       "      <td>very_funny</td>\n",
       "      <td>general</td>\n",
       "      <td>hateful_offensive</td>\n",
       "      <td>motivational</td>\n",
       "      <td>positive</td>\n",
       "    </tr>\n",
       "    <tr>\n",
       "      <th>6915</th>\n",
       "      <td>image_6916.jpg</td>\n",
       "      <td>EUROPE We have to cancel this match Snowing is...</td>\n",
       "      <td>EUROPE We have to cancel this match Snowing is...</td>\n",
       "      <td>very_funny</td>\n",
       "      <td>very_twisted</td>\n",
       "      <td>hateful_offensive</td>\n",
       "      <td>motivational</td>\n",
       "      <td>positive</td>\n",
       "    </tr>\n",
       "    <tr>\n",
       "      <th>6935</th>\n",
       "      <td>image_6936.png</td>\n",
       "      <td>. - DC OR MARVEL? MEME MADE BY THE FB PG DC/MA...</td>\n",
       "      <td>. - DC OR MARVEL? MEME MADE BY THE FB PG DC/MA...</td>\n",
       "      <td>funny</td>\n",
       "      <td>twisted_meaning</td>\n",
       "      <td>hateful_offensive</td>\n",
       "      <td>motivational</td>\n",
       "      <td>negative</td>\n",
       "    </tr>\n",
       "    <tr>\n",
       "      <th>6984</th>\n",
       "      <td>image_6985.jpg</td>\n",
       "      <td>YOU'RE THE BEST AROUND. NOTHING'S EVER GONNA K...</td>\n",
       "      <td>YOU'RE THE BEST AROUND. NOTHING'S EVER GONNA K...</td>\n",
       "      <td>funny</td>\n",
       "      <td>twisted_meaning</td>\n",
       "      <td>hateful_offensive</td>\n",
       "      <td>not_motivational</td>\n",
       "      <td>very_positive</td>\n",
       "    </tr>\n",
       "  </tbody>\n",
       "</table>\n",
       "<p>221 rows × 8 columns</p>\n",
       "</div>"
      ],
      "text/plain": [
       "          image_name                                           text_ocr  \\\n",
       "148    image_149.png           -S6E12 El.can't give this suit back. Ted   \n",
       "202    image_203.JPG  PH.D. IN ELECTRICAL ENGINEERING MADE THE WORLD...   \n",
       "213    image_214.jpg                        R.I.P. 1995 - 2016 BBC NEWS   \n",
       "331    image_332.jpg  His arrival was foretold in the ancient murals 2.   \n",
       "365    image_366.jpg  This is Bill. Bill is an atheist. Bill doesn't...   \n",
       "...              ...                                                ...   \n",
       "6908  image_6909.png             YOU'RE NOT MY REAL DAD spiderman memes   \n",
       "6913  image_6914.png  DAD. WHAT'S TAKING THE GAME WINNING SHOT? I DO...   \n",
       "6915  image_6916.jpg  EUROPE We have to cancel this match Snowing is...   \n",
       "6935  image_6936.png  . - DC OR MARVEL? MEME MADE BY THE FB PG DC/MA...   \n",
       "6984  image_6985.jpg  YOU'RE THE BEST AROUND. NOTHING'S EVER GONNA K...   \n",
       "\n",
       "                                         text_corrected      humour  \\\n",
       "148   S6E12 I can't give this suit back. Ted  I glow...  very_funny   \n",
       "202   PH.D. IN ELECTRICAL ENGINEERING MADE THE WORLD...   not_funny   \n",
       "213                         R.I.P. 1995 - 2016 BBC NEWS  very_funny   \n",
       "331      His arrival was foretold in the ancient murals   hilarious   \n",
       "365   This is Bill. Bill is an atheist. Bill doesn't...   hilarious   \n",
       "...                                                 ...         ...   \n",
       "6908  YOU'RE NOT MY REAL DAD spiderman memes 60s spi...       funny   \n",
       "6913  DAD. WHAT'S TAKING THE GAME WINNING SHOT? I DO...  very_funny   \n",
       "6915  EUROPE We have to cancel this match Snowing is...  very_funny   \n",
       "6935  . - DC OR MARVEL? MEME MADE BY THE FB PG DC/MA...       funny   \n",
       "6984  YOU'RE THE BEST AROUND. NOTHING'S EVER GONNA K...       funny   \n",
       "\n",
       "              sarcasm          offensive      motivational overall_sentiment  \n",
       "148     not_sarcastic  hateful_offensive      motivational          negative  \n",
       "202      very_twisted  hateful_offensive      motivational     very_negative  \n",
       "213           general  hateful_offensive  not_motivational           neutral  \n",
       "331      very_twisted  hateful_offensive  not_motivational     very_positive  \n",
       "365           general  hateful_offensive      motivational          positive  \n",
       "...               ...                ...               ...               ...  \n",
       "6908  twisted_meaning  hateful_offensive      motivational          negative  \n",
       "6913          general  hateful_offensive      motivational          positive  \n",
       "6915     very_twisted  hateful_offensive      motivational          positive  \n",
       "6935  twisted_meaning  hateful_offensive      motivational          negative  \n",
       "6984  twisted_meaning  hateful_offensive  not_motivational     very_positive  \n",
       "\n",
       "[221 rows x 8 columns]"
      ]
     },
     "execution_count": 9,
     "metadata": {},
     "output_type": "execute_result"
    }
   ],
   "source": [
    "df_read = df_labels[df_labels['offensive'] == \"hateful_offensive\"]\n",
    "df_read"
   ]
  },
  {
   "cell_type": "code",
   "execution_count": 14,
   "id": "6785b1f6",
   "metadata": {},
   "outputs": [
    {
     "name": "stdout",
     "output_type": "stream",
     "text": [
      "PH.D. IN ELECTRICAL ENGINEERING MADE THE WORLD LAUGH WITHOUT SAYING A WORD\n"
     ]
    }
   ],
   "source": [
    "# 显示图像\n",
    "images_dict['image_203.JPG'].show()\n",
    "# 显示文本\n",
    "print(df_read['text_corrected'].values[1])"
   ]
  }
 ],
 "metadata": {
  "kernelspec": {
   "display_name": "Hatememes",
   "language": "python",
   "name": "python3"
  },
  "language_info": {
   "codemirror_mode": {
    "name": "ipython",
    "version": 3
   },
   "file_extension": ".py",
   "mimetype": "text/x-python",
   "name": "python",
   "nbconvert_exporter": "python",
   "pygments_lexer": "ipython3",
   "version": "3.10.16"
  }
 },
 "nbformat": 4,
 "nbformat_minor": 5
}
