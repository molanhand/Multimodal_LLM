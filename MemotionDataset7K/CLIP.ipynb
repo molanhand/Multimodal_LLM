{
 "cells": [
  {
   "cell_type": "code",
   "execution_count": 1,
   "id": "7cef9ed8",
   "metadata": {},
   "outputs": [
    {
     "name": "stderr",
     "output_type": "stream",
     "text": [
      "d:\\Anaconda\\envs\\Hatememes\\lib\\site-packages\\tqdm\\auto.py:21: TqdmWarning: IProgress not found. Please update jupyter and ipywidgets. See https://ipywidgets.readthedocs.io/en/stable/user_install.html\n",
      "  from .autonotebook import tqdm as notebook_tqdm\n"
     ]
    }
   ],
   "source": [
    "import os\n",
    "import copy\n",
    "import numpy as np\n",
    "import pandas as pd\n",
    "from PIL import Image, ImageFile\n",
    "\n",
    "import torch\n",
    "import torch.nn as nn\n",
    "from torch.utils.data import Dataset, DataLoader\n",
    "from torchvision import transforms\n",
    "\n",
    "from sklearn.metrics import accuracy_score, precision_recall_fscore_support\n",
    "from sklearn.model_selection import train_test_split\n",
    "from sklearn.utils.class_weight import compute_class_weight\n",
    "\n",
    "from transformers import CLIPProcessor, CLIPModel\n",
    "from imblearn.over_sampling import SMOTE\n",
    "\n",
    "import matplotlib.pyplot as plt\n",
    "plt.rcParams['font.sans-serif'] = ['SimHei']\n",
    "plt.rcParams['axes.unicode_minus'] = False\n",
    "\n",
    "import seaborn as sns\n",
    "\n",
    "import warnings\n",
    "warnings.filterwarnings(\"ignore\")"
   ]
  },
  {
   "cell_type": "markdown",
   "id": "ea8b272b",
   "metadata": {},
   "source": [
    "### 1.加载和清理数据"
   ]
  },
  {
   "cell_type": "code",
   "execution_count": 2,
   "id": "c43a08a3",
   "metadata": {},
   "outputs": [
    {
     "name": "stdout",
     "output_type": "stream",
     "text": [
      "使用设备: cuda\n",
      "数据集大小: (6992, 8)\n",
      "数据集列: Index(['image_name', 'text_ocr', 'text_corrected', 'humour', 'sarcasm',\n",
      "       'offensive', 'motivational', 'overall_sentiment'],\n",
      "      dtype='object')\n",
      "<class 'pandas.core.frame.DataFrame'>\n",
      "Index: 6992 entries, 0 to 6991\n",
      "Data columns (total 8 columns):\n",
      " #   Column             Non-Null Count  Dtype \n",
      "---  ------             --------------  ----- \n",
      " 0   image_name         6992 non-null   object\n",
      " 1   text_ocr           6831 non-null   object\n",
      " 2   text_corrected     6987 non-null   object\n",
      " 3   humour             6992 non-null   object\n",
      " 4   sarcasm            6992 non-null   object\n",
      " 5   offensive          6992 non-null   object\n",
      " 6   motivational       6992 non-null   object\n",
      " 7   overall_sentiment  6992 non-null   object\n",
      "dtypes: object(8)\n",
      "memory usage: 491.6+ KB\n",
      "数据集信息:\n",
      " None\n",
      "数据集前几行:\n",
      "      image_name                                           text_ocr  \\\n",
      "0   image_1.jpg  LOOK THERE MY FRIEND LIGHTYEAR NOW ALL SOHALIK...   \n",
      "1  image_2.jpeg  The best of #10 YearChallenge! Completed in le...   \n",
      "2   image_3.JPG  Sam Thorne @Strippin ( Follow Follow Saw every...   \n",
      "3   image_4.png              10 Year Challenge - Sweet Dee Edition   \n",
      "4   image_5.png  10 YEAR CHALLENGE WITH NO FILTER 47 Hilarious ...   \n",
      "\n",
      "                                      text_corrected      humour  \\\n",
      "0  LOOK THERE MY FRIEND LIGHTYEAR NOW ALL SOHALIK...   hilarious   \n",
      "1  The best of #10 YearChallenge! Completed in le...   not_funny   \n",
      "2  Sam Thorne @Strippin ( Follow Follow Saw every...  very_funny   \n",
      "3              10 Year Challenge - Sweet Dee Edition  very_funny   \n",
      "4  10 YEAR CHALLENGE WITH NO FILTER 47 Hilarious ...   hilarious   \n",
      "\n",
      "           sarcasm       offensive      motivational overall_sentiment  \n",
      "0          general   not_offensive  not_motivational     very_positive  \n",
      "1          general   not_offensive      motivational     very_positive  \n",
      "2    not_sarcastic   not_offensive  not_motivational          positive  \n",
      "3  twisted_meaning  very_offensive      motivational          positive  \n",
      "4     very_twisted  very_offensive  not_motivational           neutral  \n"
     ]
    }
   ],
   "source": [
    "# 我们允许截断的图像，以防万一\n",
    "ImageFile.LOAD_TRUNCATED_IMAGES = True\n",
    "\n",
    "DEVICE = torch.device(\"cuda\" if torch.cuda.is_available() else \"cpu\")\n",
    "print(\"使用设备:\", DEVICE)\n",
    "\n",
    "CSV_PATH = \"./memotion_dataset_7k/labels.csv\"\n",
    "IMAGES_DIR = \"./memotion_dataset_7k/images\"\n",
    "\n",
    "df = pd.read_csv(CSV_PATH,index_col=0)\n",
    "print(\"数据集大小:\", df.shape)\n",
    "print(\"数据集列:\", df.columns)\n",
    "print(\"数据集信息:\\n\", df.info())\n",
    "print(\"数据集前几行:\\n\", df.head())"
   ]
  },
  {
   "cell_type": "code",
   "execution_count": 3,
   "id": "4a354c94",
   "metadata": {},
   "outputs": [
    {
     "name": "stdout",
     "output_type": "stream",
     "text": [
      "处理后的数据集大小: (6987, 8)\n"
     ]
    }
   ],
   "source": [
    "# 删除text_corrected或者offensive列中有空值的行\n",
    "df = df.dropna(subset=[\"text_corrected\", \"offensive\"])\n",
    "# 将文本列强制转为字符串类型，避免可能的数值类型或空对象导致的错误\n",
    "df[\"text_corrected\"] = df[\"text_corrected\"].astype(str)\n",
    "# 去除文本中全是空白字符的行\n",
    "df = df[df[\"text_corrected\"].str.strip() != \"\"]\n",
    "\n",
    "print(\"处理后的数据集大小:\", df.shape)"
   ]
  },
  {
   "cell_type": "code",
   "execution_count": 4,
   "id": "0edc076a",
   "metadata": {},
   "outputs": [
    {
     "name": "stdout",
     "output_type": "stream",
     "text": [
      "损坏文件: ./memotion_dataset_7k/images\\image_5119.png, 错误: Truncated File Read\n",
      "跳过了 1 张损坏的图像，有效图像数量: 6986\n"
     ]
    }
   ],
   "source": [
    "# 验证图像，跳过任何完全损坏的图像\n",
    "bad_images = 0\n",
    "valid_indices = []\n",
    "\n",
    "for i, row in df.iterrows():\n",
    "    img_path = os.path.join(IMAGES_DIR, row[\"image_name\"])\n",
    "    try:\n",
    "        with Image.open(img_path) as im:\n",
    "            im.verify()\n",
    "        valid_indices.append(i)        \n",
    "    except Exception as e:\n",
    "        bad_images += 1\n",
    "        print(f\"损坏文件: {img_path}, 错误: {str(e)}\") \n",
    "   \n",
    "df = df.loc[valid_indices].reset_index(drop=True)\n",
    "print(f\"跳过了 {bad_images} 张损坏的图像，有效图像数量: {len(df)}\")"
   ]
  },
  {
   "cell_type": "code",
   "execution_count": 5,
   "id": "5fff6ac4",
   "metadata": {},
   "outputs": [
    {
     "data": {
      "image/png": "[encoded data removed]",
      "text/plain": [
       "<Figure size 800x600 with 1 Axes>"
      ]
     },
     "metadata": {},
     "output_type": "display_data"
    }
   ],
   "source": [
    "# 显示数据集的分布\n",
    "plt.figure(figsize=(8, 6))\n",
    "sns.countplot(x=\"offensive\", data=df, palette=\"viridis\")\n",
    "plt.title(\"Offensive列分布\", fontsize=16)\n",
    "plt.xlabel(\"攻击性\", fontsize=12)\n",
    "plt.ylabel(\"数量\", fontsize=12)\n",
    "plt.xticks(fontsize=10)\n",
    "plt.yticks(fontsize=10)\n",
    "# 在图上添加百分比\n",
    "for p in plt.gca().patches:\n",
    "    percentage = f\"{p.get_height() / len(df) * 100:.1f}%\"\n",
    "    plt.annotate(percentage, \n",
    "                 (p.get_x() + p.get_width() / 2., p.get_height()),\n",
    "                 ha='center', va='bottom', fontsize=10, color='black', \n",
    "                 rotation=0, xytext=(0, 5), textcoords='offset points',\n",
    "                 bbox=dict(boxstyle=\"round,pad=0.3\", edgecolor=\"none\", facecolor=\"white\", alpha=0.7))\n",
    "plt.tight_layout()\n",
    "\n",
    "plt.savefig(\"./images_draw/offensive_distribution.png\", dpi=300, bbox_inches='tight')\n",
    "plt.show()"
   ]
  },
  {
   "cell_type": "code",
   "execution_count": 8,
   "id": "83cc79af",
   "metadata": {},
   "outputs": [
    {
     "data": {
      "application/vnd.microsoft.datawrangler.viewer.v0+json": {
       "columns": [
        {
         "name": "index",
         "rawType": "int64",
         "type": "integer"
        },
        {
         "name": "image_name",
         "rawType": "object",
         "type": "string"
        },
        {
         "name": "text_corrected",
         "rawType": "object",
         "type": "string"
        },
        {
         "name": "offensive",
         "rawType": "object",
         "type": "string"
        }
       ],
       "conversionMethod": "pd.DataFrame",
       "ref": "63bffeea-4be1-4881-bbff-4c72fef9eb71",
       "rows": [
        [
         "0",
         "image_1.jpg",
         "LOOK THERE MY FRIEND LIGHTYEAR NOW ALL SOHALIKUT TREND PLAY THE 10 YEARS CHALLENGE AT FACEBOOK imgflip.com",
         "not_offensive"
        ],
        [
         "1",
         "image_2.jpeg",
         "The best of #10 YearChallenge! Completed in less the 4 years. Kudus to @narendramodi ji 8:05 PM - 16 Jan 2019 from Mumbai  India",
         "not_offensive"
        ],
        [
         "2",
         "image_3.JPG",
         "Sam Thorne @Strippin ( Follow Follow Saw everyone posting these 2009 vs 2019 pics so here's mine 6:23 PM - 12 Jan 2019 O 636 Retweets 3 224 LIKES 65 636 3.2K",
         "not_offensive"
        ],
        [
         "3",
         "image_4.png",
         "10 Year Challenge - Sweet Dee Edition",
         "very_offensive"
        ],
        [
         "4",
         "image_5.png",
         "10 YEAR CHALLENGE WITH NO FILTER 47 Hilarious 10 Year Challenge Memes | What is #10 Year Challenge?",
         "very_offensive"
        ]
       ],
       "shape": {
        "columns": 3,
        "rows": 5
       }
      },
      "text/html": [
       "<div>\n",
       "<style scoped>\n",
       "    .dataframe tbody tr th:only-of-type {\n",
       "        vertical-align: middle;\n",
       "    }\n",
       "\n",
       "    .dataframe tbody tr th {\n",
       "        vertical-align: top;\n",
       "    }\n",
       "\n",
       "    .dataframe thead th {\n",
       "        text-align: right;\n",
       "    }\n",
       "</style>\n",
       "<table border=\"1\" class=\"dataframe\">\n",
       "  <thead>\n",
       "    <tr style=\"text-align: right;\">\n",
       "      <th></th>\n",
       "      <th>image_name</th>\n",
       "      <th>text_corrected</th>\n",
       "      <th>offensive</th>\n",
       "    </tr>\n",
       "  </thead>\n",
       "  <tbody>\n",
       "    <tr>\n",
       "      <th>0</th>\n",
       "      <td>image_1.jpg</td>\n",
       "      <td>LOOK THERE MY FRIEND LIGHTYEAR NOW ALL SOHALIK...</td>\n",
       "      <td>not_offensive</td>\n",
       "    </tr>\n",
       "    <tr>\n",
       "      <th>1</th>\n",
       "      <td>image_2.jpeg</td>\n",
       "      <td>The best of #10 YearChallenge! Completed in le...</td>\n",
       "      <td>not_offensive</td>\n",
       "    </tr>\n",
       "    <tr>\n",
       "      <th>2</th>\n",
       "      <td>image_3.JPG</td>\n",
       "      <td>Sam Thorne @Strippin ( Follow Follow Saw every...</td>\n",
       "      <td>not_offensive</td>\n",
       "    </tr>\n",
       "    <tr>\n",
       "      <th>3</th>\n",
       "      <td>image_4.png</td>\n",
       "      <td>10 Year Challenge - Sweet Dee Edition</td>\n",
       "      <td>very_offensive</td>\n",
       "    </tr>\n",
       "    <tr>\n",
       "      <th>4</th>\n",
       "      <td>image_5.png</td>\n",
       "      <td>10 YEAR CHALLENGE WITH NO FILTER 47 Hilarious ...</td>\n",
       "      <td>very_offensive</td>\n",
       "    </tr>\n",
       "  </tbody>\n",
       "</table>\n",
       "</div>"
      ],
      "text/plain": [
       "     image_name                                     text_corrected  \\\n",
       "0   image_1.jpg  LOOK THERE MY FRIEND LIGHTYEAR NOW ALL SOHALIK...   \n",
       "1  image_2.jpeg  The best of #10 YearChallenge! Completed in le...   \n",
       "2   image_3.JPG  Sam Thorne @Strippin ( Follow Follow Saw every...   \n",
       "3   image_4.png              10 Year Challenge - Sweet Dee Edition   \n",
       "4   image_5.png  10 YEAR CHALLENGE WITH NO FILTER 47 Hilarious ...   \n",
       "\n",
       "        offensive  \n",
       "0   not_offensive  \n",
       "1   not_offensive  \n",
       "2   not_offensive  \n",
       "3  very_offensive  \n",
       "4  very_offensive  "
      ]
     },
     "execution_count": 8,
     "metadata": {},
     "output_type": "execute_result"
    }
   ],
   "source": [
    "df[['image_name','text_corrected','offensive']].head(5)"
   ]
  },
  {
   "cell_type": "code",
   "execution_count": 9,
   "id": "3d2a5484",
   "metadata": {},
   "outputs": [
    {
     "name": "stdout",
     "output_type": "stream",
     "text": [
      "Merged distribution:\n",
      "merge_offensive\n",
      "offensive        0.612081\n",
      "not_offensive    0.387919\n",
      "Name: proportion, dtype: float64\n"
     ]
    }
   ],
   "source": [
    "# 将原始的4个类别合并为2个类别（offensive, not_offensive）\n",
    "def merge_offensive(label):\n",
    "    if label in [\"slight\", \"very_offensive\",'hateful_offensive']:\n",
    "        return \"offensive\"\n",
    "    else:\n",
    "        return \"not_offensive\"\n",
    "\n",
    "# 合并标签\n",
    "df[\"merge_offensive\"] = df[\"offensive\"].apply(merge_offensive)\n",
    "label2id = {\"not_offensive\": 0, \"offensive\": 1}\n",
    "df[\"label\"] = df[\"merge_offensive\"].map(label2id)\n",
    "print(\"Merged distribution:\")\n",
    "print(df[\"merge_offensive\"].value_counts(normalize=True))"
   ]
  },
  {
   "cell_type": "code",
   "execution_count": 10,
   "id": "02e34122",
   "metadata": {},
   "outputs": [
    {
     "data": {
      "application/vnd.microsoft.datawrangler.viewer.v0+json": {
       "columns": [
        {
         "name": "index",
         "rawType": "int64",
         "type": "integer"
        },
        {
         "name": "image_name",
         "rawType": "object",
         "type": "string"
        },
        {
         "name": "text_corrected",
         "rawType": "object",
         "type": "string"
        },
        {
         "name": "offensive",
         "rawType": "object",
         "type": "string"
        },
        {
         "name": "merge_offensive",
         "rawType": "object",
         "type": "string"
        },
        {
         "name": "label",
         "rawType": "int64",
         "type": "integer"
        }
       ],
       "conversionMethod": "pd.DataFrame",
       "ref": "f1fa15ff-69f0-4eea-8722-e13cdf5dfc09",
       "rows": [
        [
         "0",
         "image_1.jpg",
         "LOOK THERE MY FRIEND LIGHTYEAR NOW ALL SOHALIKUT TREND PLAY THE 10 YEARS CHALLENGE AT FACEBOOK imgflip.com",
         "not_offensive",
         "not_offensive",
         "0"
        ],
        [
         "1",
         "image_2.jpeg",
         "The best of #10 YearChallenge! Completed in less the 4 years. Kudus to @narendramodi ji 8:05 PM - 16 Jan 2019 from Mumbai  India",
         "not_offensive",
         "not_offensive",
         "0"
        ],
        [
         "2",
         "image_3.JPG",
         "Sam Thorne @Strippin ( Follow Follow Saw everyone posting these 2009 vs 2019 pics so here's mine 6:23 PM - 12 Jan 2019 O 636 Retweets 3 224 LIKES 65 636 3.2K",
         "not_offensive",
         "not_offensive",
         "0"
        ],
        [
         "3",
         "image_4.png",
         "10 Year Challenge - Sweet Dee Edition",
         "very_offensive",
         "offensive",
         "1"
        ],
        [
         "4",
         "image_5.png",
         "10 YEAR CHALLENGE WITH NO FILTER 47 Hilarious 10 Year Challenge Memes | What is #10 Year Challenge?",
         "very_offensive",
         "offensive",
         "1"
        ]
       ],
       "shape": {
        "columns": 5,
        "rows": 5
       }
      },
      "text/html": [
       "<div>\n",
       "<style scoped>\n",
       "    .dataframe tbody tr th:only-of-type {\n",
       "        vertical-align: middle;\n",
       "    }\n",
       "\n",
       "    .dataframe tbody tr th {\n",
       "        vertical-align: top;\n",
       "    }\n",
       "\n",
       "    .dataframe thead th {\n",
       "        text-align: right;\n",
       "    }\n",
       "</style>\n",
       "<table border=\"1\" class=\"dataframe\">\n",
       "  <thead>\n",
       "    <tr style=\"text-align: right;\">\n",
       "      <th></th>\n",
       "      <th>image_name</th>\n",
       "      <th>text_corrected</th>\n",
       "      <th>offensive</th>\n",
       "      <th>merge_offensive</th>\n",
       "      <th>label</th>\n",
       "    </tr>\n",
       "  </thead>\n",
       "  <tbody>\n",
       "    <tr>\n",
       "      <th>0</th>\n",
       "      <td>image_1.jpg</td>\n",
       "      <td>LOOK THERE MY FRIEND LIGHTYEAR NOW ALL SOHALIK...</td>\n",
       "      <td>not_offensive</td>\n",
       "      <td>not_offensive</td>\n",
       "      <td>0</td>\n",
       "    </tr>\n",
       "    <tr>\n",
       "      <th>1</th>\n",
       "      <td>image_2.jpeg</td>\n",
       "      <td>The best of #10 YearChallenge! Completed in le...</td>\n",
       "      <td>not_offensive</td>\n",
       "      <td>not_offensive</td>\n",
       "      <td>0</td>\n",
       "    </tr>\n",
       "    <tr>\n",
       "      <th>2</th>\n",
       "      <td>image_3.JPG</td>\n",
       "      <td>Sam Thorne @Strippin ( Follow Follow Saw every...</td>\n",
       "      <td>not_offensive</td>\n",
       "      <td>not_offensive</td>\n",
       "      <td>0</td>\n",
       "    </tr>\n",
       "    <tr>\n",
       "      <th>3</th>\n",
       "      <td>image_4.png</td>\n",
       "      <td>10 Year Challenge - Sweet Dee Edition</td>\n",
       "      <td>very_offensive</td>\n",
       "      <td>offensive</td>\n",
       "      <td>1</td>\n",
       "    </tr>\n",
       "    <tr>\n",
       "      <th>4</th>\n",
       "      <td>image_5.png</td>\n",
       "      <td>10 YEAR CHALLENGE WITH NO FILTER 47 Hilarious ...</td>\n",
       "      <td>very_offensive</td>\n",
       "      <td>offensive</td>\n",
       "      <td>1</td>\n",
       "    </tr>\n",
       "  </tbody>\n",
       "</table>\n",
       "</div>"
      ],
      "text/plain": [
       "     image_name                                     text_corrected  \\\n",
       "0   image_1.jpg  LOOK THERE MY FRIEND LIGHTYEAR NOW ALL SOHALIK...   \n",
       "1  image_2.jpeg  The best of #10 YearChallenge! Completed in le...   \n",
       "2   image_3.JPG  Sam Thorne @Strippin ( Follow Follow Saw every...   \n",
       "3   image_4.png              10 Year Challenge - Sweet Dee Edition   \n",
       "4   image_5.png  10 YEAR CHALLENGE WITH NO FILTER 47 Hilarious ...   \n",
       "\n",
       "        offensive merge_offensive  label  \n",
       "0   not_offensive   not_offensive      0  \n",
       "1   not_offensive   not_offensive      0  \n",
       "2   not_offensive   not_offensive      0  \n",
       "3  very_offensive       offensive      1  \n",
       "4  very_offensive       offensive      1  "
      ]
     },
     "execution_count": 10,
     "metadata": {},
     "output_type": "execute_result"
    }
   ],
   "source": [
    "df[['image_name','text_corrected','offensive','merge_offensive','label']].head(5)"
   ]
  },
  {
   "cell_type": "code",
   "execution_count": 11,
   "id": "d6e0cd0a",
   "metadata": {},
   "outputs": [
    {
     "data": {
      "image/png": "[encoded data removed]",
      "text/plain": [
       "<Figure size 800x600 with 1 Axes>"
      ]
     },
     "metadata": {},
     "output_type": "display_data"
    }
   ],
   "source": [
    "# 画饼图可视化分布\n",
    "plt.figure(figsize=(8, 6))\n",
    "df[\"merge_offensive\"].value_counts().plot.pie(\n",
    "    autopct=\"%1.1f%%\", \n",
    "    startangle=90, \n",
    "    colors=sns.color_palette(\"viridis\", len(df[\"merge_offensive\"].unique())),\n",
    "    labels=[\"offensive\", \"not_offensive\"], \n",
    "    textprops={'fontsize': 12}\n",
    ")\n",
    "plt.title(\"合并后的攻击性分布\", fontsize=16)\n",
    "plt.ylabel(\"\")  # 去掉默认的y轴标签\n",
    "plt.tight_layout()\n",
    "# 保存图像\n",
    "plt.savefig(\"./images_draw/merged_offensive_distribution_pie.png\", dpi=300, bbox_inches='tight')\n",
    "plt.show()"
   ]
  },
  {
   "cell_type": "code",
   "execution_count": 13,
   "id": "1bc47cf1",
   "metadata": {},
   "outputs": [
    {
     "name": "stdout",
     "output_type": "stream",
     "text": [
      "训练集/验证集/测试集大小: 5938 524 524\n"
     ]
    }
   ],
   "source": [
    "\n",
    "# 将数据集按标签分层拆分为训练集和测试集，测试集占15%\n",
    "train_df, test_df = train_test_split(\n",
    "    df, test_size=0.15, stratify=df[\"label\"], random_state=42\n",
    ")  \n",
    "\n",
    "# 将测试集进一步按标签分层拆分为验证集和测试集，各占50%\n",
    "val_df, test_df = train_test_split(\n",
    "    test_df, test_size=0.5, stratify=test_df[\"label\"], random_state=42\n",
    ")  \n",
    "\n",
    "print(\"训练集/验证集/测试集大小:\", len(train_df), len(val_df), len(test_df))"
   ]
  },
  {
   "cell_type": "code",
   "execution_count": 15,
   "id": "4b01de2c",
   "metadata": {},
   "outputs": [
    {
     "name": "stdout",
     "output_type": "stream",
     "text": [
      "Train分布:\n",
      " label\n",
      "1    3635\n",
      "0    2303\n",
      "Name: count, dtype: int64\n",
      "Val分布:\n",
      " label\n",
      "1    321\n",
      "0    203\n",
      "Name: count, dtype: int64\n",
      "Test分布:\n",
      " label\n",
      "1    320\n",
      "0    204\n",
      "Name: count, dtype: int64\n"
     ]
    },
    {
     "data": {
      "image/png": "[encoded data removed]",
      "text/plain": [
       "<Figure size 1500x500 with 3 Axes>"
      ]
     },
     "metadata": {},
     "output_type": "display_data"
    }
   ],
   "source": [
    "# 检查数据分布,在划分后打印各子集的类别分布，确保少数类样本足够\n",
    "print(\"Train分布:\\n\", train_df[\"label\"].value_counts())\n",
    "print(\"Val分布:\\n\", val_df[\"label\"].value_counts())\n",
    "print(\"Test分布:\\n\", test_df[\"label\"].value_counts())\n",
    "\n",
    "# 绘制了每个子集中两类样本的数量柱状图，进一步说明类别比例一致性\n",
    "\n",
    "train_distribution = train_df[\"label\"].value_counts()\n",
    "val_distribution = val_df[\"label\"].value_counts()\n",
    "test_distribution = test_df[\"label\"].value_counts()\n",
    "\n",
    "# 创建一个包含三个子图的画布\n",
    "fig, axes = plt.subplots(1, 3, figsize=(15, 5))\n",
    "\n",
    "# 绘制训练集的柱状图\n",
    "train_distribution.plot(kind='bar', ax=axes[0], title='Train Distribution')\n",
    "for p in axes[0].patches:\n",
    "    axes[0].annotate(str(p.get_height()), (p.get_x() + p.get_width() / 2., p.get_height()), ha='center', va='center')\n",
    "\n",
    "# 绘制验证集的柱状图\n",
    "val_distribution.plot(kind='bar', ax=axes[1], title='Val Distribution')\n",
    "for p in axes[1].patches:\n",
    "    axes[1].annotate(str(p.get_height()), (p.get_x() + p.get_width() / 2., p.get_height()), ha='center', va='center')\n",
    "\n",
    "# 绘制测试集的柱状图\n",
    "test_distribution.plot(kind='bar', ax=axes[2], title='Test Distribution')\n",
    "for p in axes[2].patches:\n",
    "    axes[2].annotate(str(p.get_height()), (p.get_x() + p.get_width() / 2., p.get_height()), ha='center', va='center')\n",
    "\n",
    "# 设置全局的 X 轴标签\n",
    "fig.text(0.5, 0.04, 'Label', ha='center')\n",
    "# 设置全局的 Y 轴标签\n",
    "fig.text(0.04, 0.5, 'Count', va='center', rotation='vertical')\n",
    "\n",
    "# 显示图形\n",
    "plt.show()\n"
   ]
  },
  {
   "cell_type": "code",
   "execution_count": 14,
   "id": "949cbc24",
   "metadata": {},
   "outputs": [],
   "source": [
    "# # 下载模型\n",
    "# from huggingface_hub import snapshot_download\n",
    "\n",
    "# clip_model_name = \"openai/clip-vit-base-patch32\"\n",
    "# local_dir = \"D:/clip-vit-base-patch32\"  \n",
    "# snapshot_download(repo_id=clip_model_name, local_dir=local_dir)"
   ]
  },
  {
   "cell_type": "code",
   "execution_count": 15,
   "id": "2a451b5f",
   "metadata": {},
   "outputs": [],
   "source": [
    "# 5) CLIP 处理器\n",
    "\n",
    "# 我们将使用 openai/clip-vit-base-patch32 模型的变体\n",
    "clip_model_name = \"openai/clip-vit-base-patch32\"\n",
    "local_dir = \"D:/clip-vit-base-patch32\"  \n",
    "\n",
    "# 从本地目录加载 CLIP 处理器\n",
    "processor = CLIPProcessor.from_pretrained(local_dir)\n",
    "\n",
    "# 该处理器将自动处理图像的变换和文本的分词\n",
    "# 我们将在自定义数据集中应用它\n"
   ]
  },
  {
   "cell_type": "code",
   "execution_count": 16,
   "id": "39a75c9f",
   "metadata": {},
   "outputs": [],
   "source": [
    "# 6) 自定义数据集\n",
    "\n",
    "class CLIPMemotionDataset(Dataset):\n",
    "    \"\"\"\n",
    "    每个样本返回：\n",
    "      - pixel_values: 转换后的图像张量\n",
    "      - input_ids, attention_mask: 分词后的文本\n",
    "      - label: 攻击性类别\n",
    "    \"\"\"\n",
    "    def __init__(self, dataframe, images_dir, processor, max_length=77):\n",
    "        self.df = dataframe.reset_index(drop=True)  # 重置索引，确保数据一致性\n",
    "        self.images_dir = images_dir  \n",
    "        self.processor = processor  # CLIP 处理器\n",
    "        self.max_length = max_length  # 文本最大长度\n",
    "\n",
    "    def __len__(self):\n",
    "        return len(self.df) \n",
    "\n",
    "    def __getitem__(self, idx):\n",
    "        row = self.df.iloc[idx]  # 获取指定索引的行数据\n",
    "        img_path = os.path.join(self.images_dir, row[\"image_name\"])  # 获取图像路径\n",
    "        image = Image.open(img_path).convert(\"RGB\")  # 打开图像并转换为RGB格式\n",
    "        text = row[\"text_corrected\"]  # 获取文本\n",
    "        label = torch.tensor(row[\"label\"], dtype=torch.long)  # 获取标签并转换为张量\n",
    "\n",
    "        # CLIP处理器可以同时处理图像和文本，但为了清晰，我们分开调用\n",
    "        encoded = self.processor(\n",
    "            text=[text],  # 文本输入\n",
    "            images=[image],  # 图像输入\n",
    "            padding=\"max_length\",  # 填充到最大长度\n",
    "            truncation=True,  # 截断超长文本\n",
    "            max_length=self.max_length,  # 最大长度\n",
    "            return_tensors=\"pt\"  # 返回PyTorch张量\n",
    "        )\n",
    "\n",
    "        # encoded 是一个包含 pixel_values, input_ids, attention_mask 的字典\n",
    "        # 去掉batch维度（默认batch=1），返回普通张量\n",
    "        pixel_values = encoded[\"pixel_values\"].squeeze(0)       # [3, 224, 224]\n",
    "        input_ids = encoded[\"input_ids\"].squeeze(0)             # [max_length]\n",
    "        attention_mask = encoded[\"attention_mask\"].squeeze(0)   # [max_length]\n",
    "\n",
    "        return {\n",
    "            \"pixel_values\": pixel_values,  # 图像张量\n",
    "            \"input_ids\": input_ids,        # 文本ID\n",
    "            \"attention_mask\": attention_mask,  # 注意力掩码\n",
    "            \"label\": label                 # 标签\n",
    "        }\n",
    "\n"
   ]
  },
  {
   "cell_type": "code",
   "execution_count": 19,
   "id": "658f1b6a",
   "metadata": {},
   "outputs": [],
   "source": [
    "# 7) CLIP 分类模型\n",
    "\n",
    "class CLIPClassifier(nn.Module):\n",
    "    \"\"\"\n",
    "    包装一个 CLIPModel，并添加一个用于二分类的小型分类器。\n",
    "    我们将：\n",
    "      - 从模型输出中获取 image_embeds（图像嵌入）\n",
    "      - 从模型输出中获取 text_embeds（文本嵌入）\n",
    "      - 将它们结合起来，然后通过一个小型前馈网络\n",
    "    \"\"\"\n",
    "    def __init__(self, model_name, num_labels=2, freeze_clip=False):\n",
    "        super().__init__()\n",
    "        self.clip_model = CLIPModel.from_pretrained(model_name)\n",
    "        self.num_labels = num_labels\n",
    "\n",
    "        # 可选：冻结整个 CLIP 模型以减少内存使用并避免大规模更新\n",
    "        if freeze_clip:\n",
    "            for param in self.clip_model.parameters():\n",
    "                param.requires_grad = False\n",
    "\n",
    "        embed_dim = self.clip_model.config.projection_dim * 2  # 例如，512 + 512 = 1024\n",
    "        # 添加一个小型分类器头\n",
    "        self.classifier = nn.Sequential(\n",
    "            nn.Linear(embed_dim, 512),\n",
    "            nn.ReLU(),\n",
    "            nn.Dropout(0.3),\n",
    "            nn.Linear(512, num_labels)\n",
    "        )\n",
    "\n",
    "    def forward(self, pixel_values, input_ids, attention_mask):\n",
    "        # CLIP 的前向传播：\n",
    "        # 返回 image_embeds（图像嵌入）、text_embeds（文本嵌入）等\n",
    "        outputs = self.clip_model(\n",
    "            input_ids=input_ids,\n",
    "            attention_mask=attention_mask,\n",
    "            pixel_values=pixel_values\n",
    "        )\n",
    "        # outputs.image_embeds: [batch_size, projection_dim] 默认=512\n",
    "        # outputs.text_embeds:  [batch_size, projection_dim]\n",
    "\n",
    "        # 默认情况下，CLIPModel 输出的嵌入已经是归一化的（单位球面）\n",
    "        image_embeds = outputs.image_embeds\n",
    "        text_embeds = outputs.text_embeds\n",
    "\n",
    "        # 将它们拼接起来用于分类\n",
    "        fused = torch.cat([image_embeds, text_embeds], dim=1)  # 形状: [B, 1024]\n",
    "        logits = self.classifier(fused)\n",
    "        return logits\n",
    "\n",
    "num_labels = 2\n",
    "model = CLIPClassifier(\n",
    "    model_name=clip_model_name, \n",
    "    num_labels=num_labels, \n",
    "    freeze_clip=False  \n",
    ").to(DEVICE)"
   ]
  },
  {
   "cell_type": "code",
   "execution_count": null,
   "id": "a0aabd4b",
   "metadata": {},
   "outputs": [],
   "source": [
    "# class ImprovedCLIPClassifier(nn.Module):\n",
    "#     def __init__(self, model_name, num_labels=2):\n",
    "#         super().__init__()\n",
    "#         self.clip_model = CLIPModel.from_pretrained(model_name)\n",
    "        \n",
    "#         # 分层冻结\n",
    "#         self._freeze_base_layers()\n",
    "        \n",
    "#         embed_dim = self.clip_model.config.projection_dim\n",
    "        \n",
    "#         # 多头注意力融合\n",
    "#         self.cross_attention = nn.MultiheadAttention(embed_dim, 8, batch_first=True)\n",
    "        \n",
    "#         # 改进的分类器头\n",
    "#         self.classifier = nn.Sequential(\n",
    "#             nn.Linear(embed_dim, 512),\n",
    "#             nn.LayerNorm(512),\n",
    "#             nn.ReLU(),\n",
    "#             nn.Dropout(0.5),\n",
    "#             nn.Linear(512, 256),\n",
    "#             nn.LayerNorm(256),\n",
    "#             nn.ReLU(),\n",
    "#             nn.Dropout(0.3),\n",
    "#             nn.Linear(256, num_labels)\n",
    "#         )\n",
    "    \n",
    "#     def _freeze_base_layers(self):\n",
    "#         # 冻结底层特征提取器\n",
    "#         for name, param in self.clip_model.named_parameters():\n",
    "#             if 'visual.transformer.resblocks' in name:\n",
    "#                 layer_num = int(name.split('.')[3])\n",
    "#                 if layer_num < 8:  # 只冻结前8层\n",
    "#                     param.requires_grad = False"
   ]
  },
  {
   "cell_type": "markdown",
   "id": "06213496",
   "metadata": {},
   "source": [
    "#### SMOTE处理"
   ]
  },
  {
   "cell_type": "code",
   "execution_count": 22,
   "id": "d06fe215",
   "metadata": {},
   "outputs": [],
   "source": [
    "def extract_features(df, images_dir, processor):\n",
    "    \"\"\"提取多模态特征（保持在GPU）\"\"\"\n",
    "    features = []\n",
    "    model.clip_model.eval()  # 确保模型处于评估模式\n",
    "    with torch.no_grad():\n",
    "        for _, row in df.iterrows():\n",
    "            img_path = os.path.join(images_dir, row[\"image_name\"])\n",
    "            image = Image.open(img_path).convert(\"RGB\")\n",
    "            text = row[\"text_corrected\"]\n",
    "            \n",
    "            # 处理输入并移动到GPU\n",
    "            inputs = processor(\n",
    "                text=[text], \n",
    "                images=[image], \n",
    "                return_tensors=\"pt\", \n",
    "                padding=True, \n",
    "                truncation=True\n",
    "            ).to(DEVICE)  # 一次性移动到GPU\n",
    "            \n",
    "            # 前向传播\n",
    "            outputs = model.clip_model(**inputs)\n",
    "            fused_feature = torch.cat([outputs.image_embeds, outputs.text_embeds], dim=1)\n",
    "            features.append(fused_feature.squeeze(0))\n",
    "    return torch.stack(features)  # 返回GPU张量\n",
    "\n",
    "# 提取特征（保持在GPU）\n",
    "X_train = extract_features(train_df, IMAGES_DIR, processor)  # shape: [N, 1024]\n",
    "y_train = train_df[\"label\"].values\n",
    "\n",
    "# 应用SMOTE前将特征移到CPU（SMOTE需NumPy输入）\n",
    "X_train_cpu = X_train.cpu().numpy()\n",
    "smote = SMOTE(random_state=42)\n",
    "X_train_res, y_train_res = smote.fit_resample(X_train_cpu, y_train)\n"
   ]
  },
  {
   "cell_type": "code",
   "execution_count": null,
   "id": "95290203",
   "metadata": {},
   "outputs": [
    {
     "name": "stdout",
     "output_type": "stream",
     "text": [
      "过采样后训练集分布:\n",
      " label\n",
      "1    3635\n",
      "0    3635\n",
      "Name: count, dtype: int64\n"
     ]
    }
   ],
   "source": [
    "# 重建过采样后的训练集DataFrame\n",
    "# 注意：SMOTE生成的是合成样本，需映射回原始数据格式（此处需特殊处理）\n",
    "# 由于无法直接生成新图像和文本，这里采用“重复样本”近似替代\n",
    "_, counts = np.unique(y_train, return_counts=True)\n",
    "n_to_add = len(X_train_res) - len(X_train)\n",
    "minority_class = 1 if counts[1] < counts[0] else 0\n",
    "minority_samples = train_df[train_df[\"label\"] == minority_class]\n",
    "\n",
    "# 重复少数类样本以匹配SMOTE后的数量\n",
    "repeat_times = n_to_add // len(minority_samples) + 1\n",
    "oversampled_minority = pd.concat([minority_samples] * repeat_times, ignore_index=True)\n",
    "oversampled_minority = oversampled_minority.sample(n=n_to_add, random_state=42)\n",
    "\n",
    "# 合并原始训练集和过采样样本\n",
    "train_df_resampled = pd.concat([train_df, oversampled_minority], ignore_index=True)\n",
    "\n",
    "print(\"过采样后训练集分布:\\n\", train_df_resampled[\"label\"].value_counts())"
   ]
  },
  {
   "cell_type": "code",
   "execution_count": 24,
   "id": "c694a126",
   "metadata": {},
   "outputs": [],
   "source": [
    "# 创建训练集、验证集和测试集的数据集对象\n",
    "train_dataset = CLIPMemotionDataset(train_df, IMAGES_DIR, processor)\n",
    "val_dataset   = CLIPMemotionDataset(val_df,   IMAGES_DIR, processor)\n",
    "test_dataset  = CLIPMemotionDataset(test_df,  IMAGES_DIR, processor)\n",
    "\n",
    "# 定义批量大小\n",
    "BATCH_SIZE = 8\n",
    "\n",
    "# 创建数据加载器\n",
    "train_loader = DataLoader(train_dataset, batch_size=BATCH_SIZE, shuffle=True)  # 训练集打乱顺序\n",
    "val_loader   = DataLoader(val_dataset,   batch_size=BATCH_SIZE, shuffle=False) # 验证集不打乱\n",
    "test_loader  = DataLoader(test_dataset,  batch_size=BATCH_SIZE, shuffle=False) # 测试集不打乱\n",
    "\n",
    "# 重新创建过采样后的训练集Dataset\n",
    "train_dataset_resampled = CLIPMemotionDataset(train_df_resampled, IMAGES_DIR, processor)\n",
    "train_loader_resampled = DataLoader(train_dataset_resampled, batch_size=BATCH_SIZE, shuffle=True)"
   ]
  },
  {
   "cell_type": "code",
   "execution_count": 25,
   "id": "2021493f",
   "metadata": {},
   "outputs": [],
   "source": [
    "# 8) 优化器 / 学习率调度器\n",
    "\n",
    "# 微调 CLIP 可能会非常耗费资源。我们使用一个较小的学习率。\n",
    "optimizer = torch.optim.AdamW(model.parameters(), lr=1e-5)\n",
    "\n",
    "# 尝试了简单的调度器和 ReduceLROnPlateau\n",
    "scheduler = torch.optim.lr_scheduler.ReduceLROnPlateau(\n",
    "    optimizer, mode=\"min\", factor=0.5, patience=1, verbose=True\n",
    ")\n",
    "\n",
    "# 计算类别权重以平衡类别不均衡\n",
    "class_weights = compute_class_weight(\n",
    "    'balanced', \n",
    "    classes=np.array([0, 1]), \n",
    "    y=train_df[\"label\"]\n",
    ")\n",
    "\n",
    "# 确保权重张量在正确的设备上\n",
    "class_weights = torch.tensor(class_weights, dtype=torch.float).to(DEVICE)\n",
    "criterion = nn.CrossEntropyLoss(weight=class_weights)\n"
   ]
  },
  {
   "cell_type": "code",
   "execution_count": null,
   "id": "969d8409",
   "metadata": {},
   "outputs": [],
   "source": [
    "# 9) 训练 / 评估函数\n",
    "def epoch_step(model, dataloader, is_train=False):\n",
    "    if is_train:\n",
    "        model.train()\n",
    "    else:\n",
    "        model.eval()\n",
    "\n",
    "    total_loss = 0\n",
    "    all_preds = []\n",
    "    all_labels = []\n",
    "\n",
    "    for batch in dataloader:\n",
    "        pixel_values = batch[\"pixel_values\"].to(DEVICE)\n",
    "        input_ids = batch[\"input_ids\"].to(DEVICE)\n",
    "        attention_mask = batch[\"attention_mask\"].to(DEVICE)\n",
    "        labels = batch[\"label\"].to(DEVICE)\n",
    "\n",
    "        if is_train:\n",
    "            optimizer.zero_grad()\n",
    "\n",
    "        logits = model(\n",
    "            pixel_values=pixel_values,\n",
    "            input_ids=input_ids,\n",
    "            attention_mask=attention_mask\n",
    "        )\n",
    "        loss = criterion(logits, labels)\n",
    "        total_loss += loss.item() * labels.size(0)\n",
    "\n",
    "        preds = logits.argmax(dim=1).detach().cpu().numpy()\n",
    "        all_preds.append(preds)\n",
    "        all_labels.append(labels.detach().cpu().numpy())\n",
    "\n",
    "        if is_train:\n",
    "            loss.backward()\n",
    "            optimizer.step()\n",
    "\n",
    "    avg_loss = total_loss / len(dataloader.dataset)\n",
    "    all_preds = np.concatenate(all_preds)\n",
    "    all_labels = np.concatenate(all_labels)\n",
    "    acc = accuracy_score(all_labels, all_preds)\n",
    "    prec, rec, f1, _ = precision_recall_fscore_support(all_labels, all_preds, average=\"macro\")\n",
    "    return avg_loss, acc, prec, rec, f1"
   ]
  },
  {
   "cell_type": "code",
   "execution_count": 30,
   "id": "3f41ce7b",
   "metadata": {},
   "outputs": [
    {
     "name": "stdout",
     "output_type": "stream",
     "text": [
      "开始训练...\n",
      "\n",
      "Epoch 1/5\n",
      "  Train Loss: 0.6571 | Acc: 0.5684 | P: 0.5985 | R: 0.5684 | F1: 0.5326\n",
      "  Val   Loss: 0.7631   | Acc: 0.3893   | P: 0.4386 | R: 0.4690 | F1: 0.3493\n",
      "\n",
      "Epoch 2/5\n",
      "  Train Loss: 0.5732 | Acc: 0.7199 | P: 0.7280 | R: 0.7199 | F1: 0.7175\n",
      "  Val   Loss: 0.7827   | Acc: 0.4752   | P: 0.4637 | R: 0.4621 | F1: 0.4610\n",
      "\n",
      "Epoch 3/5\n",
      "  Train Loss: 0.4563 | Acc: 0.8287 | P: 0.8300 | R: 0.8287 | F1: 0.8286\n",
      "  Val   Loss: 0.8602   | Acc: 0.5000   | P: 0.4660 | R: 0.4670 | F1: 0.4661\n",
      "Early stopping triggered.\n",
      "训练完成，总耗时: 609.79秒\n",
      "模型已保存到: ./clip_memotion_model.pth\n"
     ]
    }
   ],
   "source": [
    "# 10) 训练循环（带早停机制）\n",
    "# 增加时间计时\n",
    "import time\n",
    "start_time = time.time()\n",
    "print(\"开始训练...\")\n",
    "\n",
    "EPOCHS = 5\n",
    "patience = 2\n",
    "best_val_loss = float(\"inf\")\n",
    "no_improve = 0\n",
    "best_state = None\n",
    "\n",
    "for epoch in range(1, EPOCHS + 1):\n",
    "    train_loss, train_acc, train_prec, train_rec, train_f1 = epoch_step(model, train_loader_resampled, is_train=True)\n",
    "    val_loss, val_acc, val_prec, val_rec, val_f1 = epoch_step(model, val_loader, is_train=False)\n",
    "\n",
    "    # 根据验证集损失调整学习率\n",
    "    scheduler.step(val_loss)\n",
    "\n",
    "    print(f\"\\nEpoch {epoch}/{EPOCHS}\")\n",
    "    print(f\"  Train Loss: {train_loss:.4f} | Acc: {train_acc:.4f} | P: {train_prec:.4f} | R: {train_rec:.4f} | F1: {train_f1:.4f}\")\n",
    "    print(f\"  Val   Loss: {val_loss:.4f}   | Acc: {val_acc:.4f}   | P: {val_prec:.4f} | R: {val_rec:.4f} | F1: {val_f1:.4f}\")\n",
    "\n",
    "    if val_loss < best_val_loss:\n",
    "        best_val_loss = val_loss\n",
    "        no_improve = 0\n",
    "        best_state = copy.deepcopy(model.state_dict())\n",
    "    else:\n",
    "        no_improve += 1\n",
    "        if no_improve >= patience:\n",
    "            print(\"Early stopping triggered.\")\n",
    "            break\n",
    "# 结束时间\n",
    "end_time = time.time()\n",
    "print(f\"训练完成，总耗时: {end_time - start_time:.2f}秒\")\n",
    "# 加载最佳模型状态\n",
    "model.load_state_dict(best_state)\n",
    "\n",
    "# 保存模型最佳状态\n",
    "model_save_path = \"./clip_memotion_model.pth\"\n",
    "torch.save(model.state_dict(), model_save_path)\n",
    "print(f\"模型已保存到: {model_save_path}\")\n",
    "\n"
   ]
  },
  {
   "cell_type": "code",
   "execution_count": null,
   "id": "256a6f70",
   "metadata": {},
   "outputs": [
    {
     "name": "stdout",
     "output_type": "stream",
     "text": [
      "\n",
      "--- CLIP Test Results ---\n",
      "Test Loss: 0.6303\n",
      "Test Acc:  0.6190\n",
      "Macro Precision: 0.7059\n",
      "Macro Recall:    0.6190\n",
      "Macro F1:        0.5740\n"
     ]
    }
   ],
   "source": [
    "if best_state:\n",
    "    model.load_state_dict(best_state)\n",
    "\n",
    "# Final Test\n",
    "\n",
    "test_loss, test_acc, test_prec, test_rec, test_f1 = epoch_step(model, test_loader, is_train=False)\n",
    "print(\"\\n--- CLIP Test Results ---\")\n",
    "print(f\"Test Loss: {test_loss:.4f}\")\n",
    "print(f\"Test Acc:  {test_acc:.4f}\")\n",
    "print(f\"Macro Precision: {test_prec:.4f}\")\n",
    "print(f\"Macro Recall:    {test_rec:.4f}\")\n",
    "print(f\"Macro F1:        {test_f1:.4f}\")"
   ]
  }
 ],
 "metadata": {
  "kernelspec": {
   "display_name": "Hatememes",
   "language": "python",
   "name": "python3"
  },
  "language_info": {
   "codemirror_mode": {
    "name": "ipython",
    "version": 3
   },
   "file_extension": ".py",
   "mimetype": "text/x-python",
   "name": "python",
   "nbconvert_exporter": "python",
   "pygments_lexer": "ipython3",
   "version": "3.10.16"
  }
 },
 "nbformat": 4,
 "nbformat_minor": 5
}
